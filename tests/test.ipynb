{
 "cells": [
  {
   "cell_type": "code",
   "execution_count": 3,
   "metadata": {},
   "outputs": [],
   "source": [
    "import numpy as np\n",
    "from lamp import Linear, Tanh, Sigmoid, MSELoss\n",
    "from lamp.utils.usps import *"
   ]
  },
  {
   "cell_type": "code",
   "execution_count": 4,
   "metadata": {},
   "outputs": [],
   "source": [
    "datax,datay = load_usps(\"../data/USPS_train.txt\")\n",
    "testx,testy = load_usps(\"../data/USPS_test.txt\")"
   ]
  },
  {
   "cell_type": "markdown",
   "metadata": {},
   "source": [
    "## Non-Linear"
   ]
  },
  {
   "cell_type": "code",
   "execution_count": 5,
   "metadata": {},
   "outputs": [],
   "source": [
    "neg, pos = 6, 9\n",
    "data69x,data69y = get_usps([neg,pos],datax,datay)\n",
    "test69x,test69y = get_usps([neg,pos],testx,testy)\n",
    "data69y = np.where(data69y == pos, 1, 0).reshape(-1, 1)\n",
    "test69y = np.where(test69y == pos, 1, 0).reshape(-1, 1)"
   ]
  },
  {
   "cell_type": "code",
   "execution_count": 6,
   "metadata": {},
   "outputs": [
    {
     "data": {
      "image/png": "[encoded data removed]",
      "text/plain": [
       "<Figure size 432x288 with 1 Axes>"
      ]
     },
     "metadata": {
      "needs_background": "light"
     },
     "output_type": "display_data"
    }
   ],
   "source": [
    "show_usps(datax[0])"
   ]
  },
  {
   "cell_type": "code",
   "execution_count": 7,
   "metadata": {},
   "outputs": [],
   "source": [
    "batch_size, input_size = data69x.shape\n",
    "hidden_size = 128"
   ]
  },
  {
   "cell_type": "code",
   "execution_count": 8,
   "metadata": {},
   "outputs": [],
   "source": [
    "model = [Linear(input_size, hidden_size), Tanh(), Linear(hidden_size, 1), Sigmoid()]\n",
    "mse = MSELoss()"
   ]
  },
  {
   "cell_type": "code",
   "execution_count": 11,
   "metadata": {},
   "outputs": [
    {
     "data": {
      "text/plain": [
       "array([[9.95730295e-01],\n",
       "       [5.10472697e-01],\n",
       "       [3.58164256e-01],\n",
       "       ...,\n",
       "       [1.58273203e-04],\n",
       "       [5.20119859e-01],\n",
       "       [2.69030552e-06]])"
      ]
     },
     "execution_count": 11,
     "metadata": {},
     "output_type": "execute_result"
    }
   ],
   "source": [
    "input = data69x\n",
    "inputs = []\n",
    "for module in model:\n",
    "    input = module.forward(input)\n",
    "    inputs.append(input)\n",
    "\n",
    "input"
   ]
  },
  {
   "cell_type": "code",
   "execution_count": 12,
   "metadata": {},
   "outputs": [
    {
     "data": {
      "text/plain": [
       "array([[0.99147882],\n",
       "       [0.26058237],\n",
       "       [0.12828163],\n",
       "       ...,\n",
       "       [0.99968348],\n",
       "       [0.23028495],\n",
       "       [0.99999462]])"
      ]
     },
     "execution_count": 12,
     "metadata": {},
     "output_type": "execute_result"
    }
   ],
   "source": [
    "loss = mse.forward(data69y, input)\n",
    "loss"
   ]
  },
  {
   "cell_type": "code",
   "execution_count": 13,
   "metadata": {},
   "outputs": [
    {
     "data": {
      "text/plain": [
       "array([[ 1.49076283e-12,  6.63457477e-05, -5.36553097e-04, ...,\n",
       "        -2.00905500e-03, -1.73880896e-07, -4.49564715e-04],\n",
       "       [ 2.18058124e-05,  3.49412515e-02, -9.57850684e-08, ...,\n",
       "        -2.30352775e-02, -1.77034311e-07, -2.93150560e-06],\n",
       "       [ 1.45701439e-07,  6.93854976e-08, -1.30666875e-06, ...,\n",
       "        -1.35757599e-15, -4.54150432e-04, -1.27957011e-09],\n",
       "       ...,\n",
       "       [-2.48067714e-22, -8.45923229e-12,  7.11457453e-17, ...,\n",
       "         9.99675398e-09,  4.45619214e-17,  5.56740145e-09],\n",
       "       [-3.40439455e-06, -2.52524851e-10,  9.45944660e-11, ...,\n",
       "         1.05099133e-04,  1.06794786e-09,  3.30235314e-03],\n",
       "       [-1.10761419e-23, -7.66251479e-16,  1.22634817e-25, ...,\n",
       "         5.72298203e-19,  1.75595322e-17,  1.67322493e-17]])"
      ]
     },
     "execution_count": 13,
     "metadata": {},
     "output_type": "execute_result"
    }
   ],
   "source": [
    "delta = mse.backward(data69y, loss)\n",
    "deltas = []\n",
    "\n",
    "for idx in range(len(model)-1, 0, -1):\n",
    "    delta = model[idx].backward_delta(inputs[idx-1], delta)\n",
    "    deltas.append(delta)\n",
    "\n",
    "delta"
   ]
  },
  {
   "cell_type": "markdown",
   "metadata": {},
   "source": [
    "## Multi-Class"
   ]
  }
 ],
 "metadata": {
  "interpreter": {
   "hash": "89e649af5cc535be01307bbf28f6d989ed34956b91dbd298a04e0be1da293714"
  },
  "kernelspec": {
   "display_name": "Python 3.9.9 64-bit",
   "language": "python",
   "name": "python3"
  },
  "language_info": {
   "codemirror_mode": {
    "name": "ipython",
    "version": 3
   },
   "file_extension": ".py",
   "mimetype": "text/x-python",
   "name": "python",
   "nbconvert_exporter": "python",
   "pygments_lexer": "ipython3",
   "version": "3.9.12"
  },
  "orig_nbformat": 4
 },
 "nbformat": 4,
 "nbformat_minor": 2
}
