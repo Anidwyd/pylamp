{
 "cells": [
  {
   "cell_type": "code",
   "execution_count": 2,
   "metadata": {},
   "outputs": [],
   "source": [
    "import numpy as np\n",
    "import torch\n",
    "import torch.nn as nn"
   ]
  },
  {
   "cell_type": "code",
   "execution_count": 3,
   "metadata": {},
   "outputs": [],
   "source": [
    "datax = [\n",
    "    [[0.1517, 0.5443, 0.1664, 0.2968, 0.1047, 0.2303, 0.7809, 0.8742]],\n",
    "    [[0.6482, 0.8415, 0.3437, 0.5621, 0.8318, 0.5978, 0.2179, 0.5826]],\n",
    "    [[0.0959, 0.5683, 0.8281, 0.2220, 0.7972, 0.3602, 0.9269, 0.3220]],\n",
    "    [[0.2017, 0.4027, 0.9019, 0.3093, 0.2855, 0.0226, 0.3115, 0.5141]],\n",
    "]\n",
    "\n",
    "\n",
    "# data shape\n",
    "batch = 4\n",
    "length = 8\n",
    "\n",
    "# conv shape\n",
    "k_size = 3\n",
    "chan_in = 1\n",
    "chan_out = 2\n",
    "\n",
    "params = np.random.rand(k_size, chan_in, chan_out)\n"
   ]
  },
  {
   "cell_type": "code",
   "execution_count": 4,
   "metadata": {},
   "outputs": [
    {
     "name": "stdout",
     "output_type": "stream",
     "text": [
      "(4, 8, 1)\n"
     ]
    }
   ],
   "source": [
    "np_input = np.array(datax).reshape(batch, length, chan_in)\n",
    "print(np_input.shape)\n",
    "th_input = torch.Tensor(datax)"
   ]
  },
  {
   "cell_type": "code",
   "execution_count": 5,
   "metadata": {},
   "outputs": [
    {
     "name": "stdout",
     "output_type": "stream",
     "text": [
      "(4, 6, 2)\n"
     ]
    },
    {
     "data": {
      "text/plain": [
       "array([[[-0.046 , -0.0106, -0.0249,  0.0589, -0.0257,  0.0029],\n",
       "        [-0.0177,  0.0357, -0.0517,  0.0454, -0.0949,  0.0271]],\n",
       "\n",
       "       [[-0.0747,  0.0275, -0.0493,  0.0921, -0.0774,  0.0492],\n",
       "        [-0.0857,  0.0367, -0.0516,  0.0523, -0.0415,  0.0791]],\n",
       "\n",
       "       [[-0.0778,  0.0256, -0.0683,  0.0131, -0.0514,  0.1141],\n",
       "        [-0.0727, -0.008 , -0.0671,  0.1106, -0.08  , -0.0062]],\n",
       "\n",
       "       [[-0.0694,  0.051 , -0.0776, -0.0014, -0.0342,  0.082 ],\n",
       "        [-0.021 ,  0.0115, -0.0156,  0.0452, -0.0454,  0.0151]]])"
      ]
     },
     "execution_count": 5,
     "metadata": {},
     "output_type": "execute_result"
    }
   ],
   "source": [
    "from lamp.conv import Conv1D\n",
    "\n",
    "m1 = Conv1D(k_size, chan_in, chan_out)\n",
    "output = m1.forward(np_input)\n",
    "print(output.shape)\n",
    "np.round_(output.reshape(batch, chan_out, -1), decimals=4)"
   ]
  },
  {
   "cell_type": "code",
   "execution_count": 6,
   "metadata": {},
   "outputs": [
    {
     "data": {
      "text/plain": [
       "torch.Size([4, 2, 6])"
      ]
     },
     "execution_count": 6,
     "metadata": {},
     "output_type": "execute_result"
    }
   ],
   "source": [
    "m2 = nn.Conv1d(chan_in, chan_out, k_size)\n",
    "output = m2(th_input)\n",
    "output.shape"
   ]
  },
  {
   "cell_type": "code",
   "execution_count": 7,
   "metadata": {},
   "outputs": [
    {
     "data": {
      "text/plain": [
       "array([[[0.5443, 0.5443, 0.2968, 0.2968, 0.7809, 0.8742]],\n",
       "\n",
       "       [[0.8415, 0.8415, 0.8318, 0.8318, 0.8318, 0.5978]],\n",
       "\n",
       "       [[0.8281, 0.8281, 0.8281, 0.7972, 0.9269, 0.9269]],\n",
       "\n",
       "       [[0.9019, 0.9019, 0.9019, 0.3093, 0.3115, 0.5141]]])"
      ]
     },
     "execution_count": 7,
     "metadata": {},
     "output_type": "execute_result"
    }
   ],
   "source": [
    "from lamp import MaxPool1D\n",
    "\n",
    "m3 = MaxPool1D(k_size, stride=1)\n",
    "output = m3.forward(np_input)\n",
    "output.reshape(batch, chan_in, -1)"
   ]
  },
  {
   "cell_type": "code",
   "execution_count": 8,
   "metadata": {},
   "outputs": [
    {
     "data": {
      "text/plain": [
       "tensor([[[0.5443, 0.5443, 0.2968, 0.2968, 0.7809, 0.8742]],\n",
       "\n",
       "        [[0.8415, 0.8415, 0.8318, 0.8318, 0.8318, 0.5978]],\n",
       "\n",
       "        [[0.8281, 0.8281, 0.8281, 0.7972, 0.9269, 0.9269]],\n",
       "\n",
       "        [[0.9019, 0.9019, 0.9019, 0.3093, 0.3115, 0.5141]]])"
      ]
     },
     "execution_count": 8,
     "metadata": {},
     "output_type": "execute_result"
    }
   ],
   "source": [
    "m4 = nn.MaxPool1d(k_size, stride=1)\n",
    "output = m4(th_input)\n",
    "output"
   ]
  },
  {
   "cell_type": "code",
   "execution_count": 9,
   "metadata": {},
   "outputs": [
    {
     "data": {
      "text/plain": [
       "(torch.Size([4, 6]),\n",
       " tensor([[0.5443, 0.5443, 0.2968, 0.2968, 0.7809, 0.8742],\n",
       "         [0.8415, 0.8415, 0.8318, 0.8318, 0.8318, 0.5978],\n",
       "         [0.8281, 0.8281, 0.8281, 0.7972, 0.9269, 0.9269],\n",
       "         [0.9019, 0.9019, 0.9019, 0.3093, 0.3115, 0.5141]]))"
      ]
     },
     "execution_count": 9,
     "metadata": {},
     "output_type": "execute_result"
    }
   ],
   "source": [
    "input = m4(th_input)\n",
    "# With default parameters\n",
    "m6 = nn.Flatten()\n",
    "output = m6(input)\n",
    "output.size(), output"
   ]
  },
  {
   "cell_type": "code",
   "execution_count": 10,
   "metadata": {},
   "outputs": [
    {
     "data": {
      "text/plain": [
       "((4, 6),\n",
       " array([[0.5443, 0.5443, 0.2968, 0.2968, 0.7809, 0.8742],\n",
       "        [0.8415, 0.8415, 0.8318, 0.8318, 0.8318, 0.5978],\n",
       "        [0.8281, 0.8281, 0.8281, 0.7972, 0.9269, 0.9269],\n",
       "        [0.9019, 0.9019, 0.9019, 0.3093, 0.3115, 0.5141]]))"
      ]
     },
     "execution_count": 10,
     "metadata": {},
     "output_type": "execute_result"
    }
   ],
   "source": [
    "from lamp import Flatten\n",
    "\n",
    "input = m3.forward(np_input)\n",
    "\n",
    "m5 = Flatten()\n",
    "output = m5.forward(input)\n",
    "output.shape, output"
   ]
  },
  {
   "cell_type": "code",
   "execution_count": 11,
   "metadata": {},
   "outputs": [
    {
     "data": {
      "text/plain": [
       "array([[[0.5443, 0.5443, 0.2968, 0.2968, 0.7809, 0.8742]],\n",
       "\n",
       "       [[0.8415, 0.8415, 0.8318, 0.8318, 0.8318, 0.5978]],\n",
       "\n",
       "       [[0.8281, 0.8281, 0.8281, 0.7972, 0.9269, 0.9269]],\n",
       "\n",
       "       [[0.9019, 0.9019, 0.9019, 0.3093, 0.3115, 0.5141]]])"
      ]
     },
     "execution_count": 11,
     "metadata": {},
     "output_type": "execute_result"
    }
   ],
   "source": [
    "stride = 1\n",
    "from lamp.conv import Conv1D\n",
    "\n",
    "m1 = Conv1D(k_size, chan_in, chan_out)\n",
    "output = m1.forward(np_input)\n",
    "np.round_(output.reshape(batch, chan_out, -1), decimals=4)\n",
    "\n",
    "from lamp import MaxPool1D\n",
    "\n",
    "m3 = MaxPool1D(k_size, stride=1)\n",
    "output2 = m3.forward(np_input)\n",
    "output2.reshape(batch, chan_in, -1)\n"
   ]
  },
  {
   "cell_type": "code",
   "execution_count": 13,
   "metadata": {},
   "outputs": [
    {
     "ename": "IndentationError",
     "evalue": "unindent does not match any outer indentation level (<tokenize>, line 9)",
     "output_type": "error",
     "traceback": [
      "\u001b[1;36m  File \u001b[1;32m\"<tokenize>\"\u001b[1;36m, line \u001b[1;32m9\u001b[0m\n\u001b[1;33m    for i in range(d_out):\u001b[0m\n\u001b[1;37m    ^\u001b[0m\n\u001b[1;31mIndentationError\u001b[0m\u001b[1;31m:\u001b[0m unindent does not match any outer indentation level\n"
     ]
    }
   ],
   "source": [
    "for k in range(d_out):\n",
    "            t1, t2 = k * self.stride, 2 * (self.k_size // 2) + k * self.stride + 1\n",
    "            res[:, k, :] = np.sum(\n",
    "                X[:, t1:t2, :, np.newaxis] * self._parameters[np.newaxis, :, :, :],\n",
    "                axis=(1, 2),\n",
    "            )\n",
    "\n",
    "\n",
    " for i in range(d_out):\n",
    "            out[:,i, :] = np.sum(X[:,self.k_size//2+i*self.stride -self.k_size//2:self.k_size//2+i*self.stride +self.k_size//2+1, :, np.newaxis] * self._parameters[np.newaxis, :, :, : ],axis = (1,2))"
   ]
  },
  {
   "cell_type": "code",
   "execution_count": null,
   "metadata": {},
   "outputs": [
    {
     "name": "stdout",
     "output_type": "stream",
     "text": [
      "[0 1 2 3 4 5 6 7]\n",
      "[0]\n"
     ]
    }
   ],
   "source": [
    "li = np.arange(8)\n",
    "print(li)\n",
    "print(li[0:-7])"
   ]
  },
  {
   "cell_type": "code",
   "execution_count": 17,
   "metadata": {},
   "outputs": [
    {
     "name": "stdout",
     "output_type": "stream",
     "text": [
      "[[[ 0.00433082 -0.05166243]\n",
      "  [-0.00276493 -0.02697257]\n",
      "  [ 0.0026422  -0.03056124]\n",
      "  [-0.00370273 -0.01470966]\n",
      "  [-0.02291993 -0.00985766]\n",
      "  [-0.01614343 -0.06263829]]\n",
      "\n",
      " [[ 0.00746722 -0.09136239]\n",
      "  [-0.00652645 -0.04770518]\n",
      "  [-0.01713646 -0.04693829]\n",
      "  [-0.00247323 -0.08299252]\n",
      "  [ 0.00967036 -0.07716034]\n",
      "  [-0.01154363 -0.02805151]]\n",
      "\n",
      " [[-0.01919879 -0.03972489]\n",
      "  [ 0.0108148  -0.08987615]\n",
      "  [-0.01693522 -0.03171248]\n",
      "  [ 0.00222175 -0.07348259]\n",
      "  [-0.01957088 -0.04099506]\n",
      "  [ 0.00695157 -0.09048239]]\n",
      "\n",
      " [[-0.02351044 -0.02649512]\n",
      "  [ 0.00738936 -0.08977149]\n",
      "  [ 0.00325793 -0.05163303]\n",
      "  [ 0.00668545 -0.03558693]\n",
      "  [-0.00800815 -0.00529647]\n",
      "  [-0.01292963 -0.01969919]]] 3\n",
      "[[[-0.01750764]\n",
      "  [-0.00998772]\n",
      "  [-0.03303721]\n",
      "  [-0.02414664]\n",
      "  [-0.02461112]\n",
      "  [-0.02461112]\n",
      "  [-0.02891653]\n",
      "  [-0.01491328]]\n",
      "\n",
      " [[-0.00976391]\n",
      "  [-0.03930859]\n",
      "  [-0.0626876 ]\n",
      "  [-0.06064831]\n",
      "  [-0.06052671]\n",
      "  [-0.06052671]\n",
      "  [-0.0526105 ]\n",
      "  [-0.02654301]]\n",
      "\n",
      " [[-0.01179393]\n",
      "  [-0.02698904]\n",
      "  [-0.06915165]\n",
      "  [-0.04716457]\n",
      "  [-0.07024047]\n",
      "  [-0.07024047]\n",
      "  [-0.03845947]\n",
      "  [-0.03141131]]\n",
      "\n",
      " [[-0.00900707]\n",
      "  [-0.00555973]\n",
      "  [-0.02712194]\n",
      "  [-0.03527185]\n",
      "  [-0.0596971 ]\n",
      "  [-0.0596971 ]\n",
      "  [-0.03755078]\n",
      "  [-0.03042746]]]\n"
     ]
    }
   ],
   "source": [
    "m1 = Conv1D(k_size, chan_in, chan_out)\n",
    "output = m1.forward(np_input)\n",
    "\n",
    "delta = output\n",
    "print(output, k_size)\n",
    "d_out = (length - k_size) // stride + 1\n",
    "\n",
    "d_out = 8\n",
    "res = np.zeros((batch, d_out, chan_in))\n",
    "for k in range(d_out):\n",
    "    t1, t2 = 0, k_size \n",
    "    d1 = - k * stride - 2 + k_size\n",
    "    d2 = - (k * stride + 2)\n",
    "  \n",
    "    if k == 0 :\n",
    "       \n",
    "        t1 = 0\n",
    "        t2 = k + 1\n",
    "        d1 = None\n",
    "        d2 = - 1\n",
    "    elif k <= k_size -1 :\n",
    "        \n",
    "        t1 = 0\n",
    "        t2 = k + 1\n",
    "        d1 = - 1\n",
    "        d2 = - k -2\n",
    "    elif k > d_out - k_size -1 :\n",
    "        \n",
    "        t1 = k_size - (d_out - k)\n",
    "        t2 = k_size\n",
    "        d1 = - k +2\n",
    "        d2 = 0\n",
    "   \n",
    " \n",
    "    res[:, k, :] = np.sum(\n",
    "        np.flip(params, axis=1)[ np.newaxis, t1:t2, :,  :]\n",
    "        * delta[  :, d2:d1, np.newaxis, :],\n",
    "        axis=(1,3)\n",
    "    )\n",
    "    \n",
    "print(res)"
   ]
  }
 ],
 "metadata": {
  "interpreter": {
   "hash": "0f03f176c61851f26f55848771ac40ab32fbe2b2ba9ade887bd40f44338896c9"
  },
  "kernelspec": {
   "display_name": "Python 3.9.0 64-bit",
   "language": "python",
   "name": "python3"
  },
  "language_info": {
   "codemirror_mode": {
    "name": "ipython",
    "version": 3
   },
   "file_extension": ".py",
   "mimetype": "text/x-python",
   "name": "python",
   "nbconvert_exporter": "python",
   "pygments_lexer": "ipython3",
   "version": "3.9.0"
  },
  "orig_nbformat": 4
 },
 "nbformat": 4,
 "nbformat_minor": 2
}
