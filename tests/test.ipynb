{
 "cells": [
  {
   "cell_type": "code",
   "execution_count": 1,
   "metadata": {},
   "outputs": [],
   "source": [
    "import numpy as np"
   ]
  },
  {
   "cell_type": "code",
   "execution_count": 2,
   "metadata": {},
   "outputs": [
    {
     "data": {
      "text/plain": [
       "(3, 4, 30, 7, 8)"
      ]
     },
     "execution_count": 2,
     "metadata": {},
     "output_type": "execute_result"
    }
   ],
   "source": [
    "arr = np.zeros((3, 4, 5, 6, 7, 8))\n",
    "new_arr = arr.reshape(*arr.shape[:2], -1, *arr.shape[-2:])\n",
    "new_arr.shape"
   ]
  },
  {
   "cell_type": "code",
   "execution_count": 3,
   "metadata": {},
   "outputs": [
    {
     "data": {
      "text/plain": [
       "array([[0.26887294, 0.55044774, 0.21909798],\n",
       "       [0.54125327, 0.40864761, 0.97505898]])"
      ]
     },
     "execution_count": 3,
     "metadata": {},
     "output_type": "execute_result"
    }
   ],
   "source": [
    "x = np.random.rand(2, 3)\n",
    "x"
   ]
  },
  {
   "cell_type": "code",
   "execution_count": 4,
   "metadata": {},
   "outputs": [],
   "source": [
    "k_size = 3\n",
    "chan_in = 1\n",
    "chan_out = 2\n",
    "stride = 1\n",
    "\n",
    "batch = 4\n",
    "length = 8"
   ]
  },
  {
   "cell_type": "code",
   "execution_count": 5,
   "metadata": {},
   "outputs": [],
   "source": [
    "params = np.random.rand(k_size, chan_in, chan_out)\n",
    "X = np.random.rand(batch, length, chan_in)"
   ]
  },
  {
   "cell_type": "code",
   "execution_count": 6,
   "metadata": {},
   "outputs": [
    {
     "data": {
      "text/plain": [
       "(6, (3, 1, 2), (4, 8, 1))"
      ]
     },
     "execution_count": 6,
     "metadata": {},
     "output_type": "execute_result"
    }
   ],
   "source": [
    "\n",
    "d_out = (length - k_size) // stride + 1\n",
    "d_out, params.shape, X.shape"
   ]
  },
  {
   "cell_type": "code",
   "execution_count": 7,
   "metadata": {},
   "outputs": [],
   "source": [
    "out = np.zeros((batch, d_out, chan_out))"
   ]
  },
  {
   "cell_type": "code",
   "execution_count": 8,
   "metadata": {},
   "outputs": [
    {
     "data": {
      "text/plain": [
       "array([[[0.31976792, 0.72313456],\n",
       "        [0.14339892, 0.41898735],\n",
       "        [0.33507445, 0.58459576],\n",
       "        [0.3041578 , 0.77936684],\n",
       "        [0.2878784 , 0.61488138],\n",
       "        [0.42912371, 0.88744567]],\n",
       "\n",
       "       [[0.59292037, 1.3616896 ],\n",
       "        [0.55844652, 1.26657619],\n",
       "        [0.27416838, 0.67549366],\n",
       "        [0.508804  , 0.93293328],\n",
       "        [0.61581786, 1.44947122],\n",
       "        [0.49778097, 1.16409925]],\n",
       "\n",
       "       [[0.47918488, 0.81095942],\n",
       "        [0.25399495, 0.79034986],\n",
       "        [0.12611547, 0.20980697],\n",
       "        [0.20703997, 0.38733281],\n",
       "        [0.21387251, 0.52785864],\n",
       "        [0.28636341, 0.59866675]],\n",
       "\n",
       "       [[0.4807901 , 0.79675979],\n",
       "        [0.28580554, 0.84272475],\n",
       "        [0.30643811, 0.57408696],\n",
       "        [0.52453278, 1.09764516],\n",
       "        [0.52774841, 1.2623004 ],\n",
       "        [0.23081767, 0.58684299]]])"
      ]
     },
     "execution_count": 8,
     "metadata": {},
     "output_type": "execute_result"
    }
   ],
   "source": [
    "for img in range(batch):\n",
    "    for cout in range(chan_out):\n",
    "        for i in range(d_out):\n",
    "            for j in range(k_size):\n",
    "                for c in range(chan_in):\n",
    "                    out[img, i, cout] += params[j, c, cout] * X[img, i*stride+j, c]\n",
    "out"
   ]
  },
  {
   "cell_type": "code",
   "execution_count": 10,
   "metadata": {},
   "outputs": [
    {
     "data": {
      "text/plain": [
       "array([[[0.31976792, 0.72313456],\n",
       "        [0.14339892, 0.41898735],\n",
       "        [0.33507445, 0.58459576],\n",
       "        [0.3041578 , 0.77936684],\n",
       "        [0.2878784 , 0.61488138],\n",
       "        [0.42912371, 0.88744567]],\n",
       "\n",
       "       [[0.59292037, 1.3616896 ],\n",
       "        [0.55844652, 1.26657619],\n",
       "        [0.27416838, 0.67549366],\n",
       "        [0.508804  , 0.93293328],\n",
       "        [0.61581786, 1.44947122],\n",
       "        [0.49778097, 1.16409925]],\n",
       "\n",
       "       [[0.47918488, 0.81095942],\n",
       "        [0.25399495, 0.79034986],\n",
       "        [0.12611547, 0.20980697],\n",
       "        [0.20703997, 0.38733281],\n",
       "        [0.21387251, 0.52785864],\n",
       "        [0.28636341, 0.59866675]],\n",
       "\n",
       "       [[0.4807901 , 0.79675979],\n",
       "        [0.28580554, 0.84272475],\n",
       "        [0.30643811, 0.57408696],\n",
       "        [0.52453278, 1.09764516],\n",
       "        [0.52774841, 1.2623004 ],\n",
       "        [0.23081767, 0.58684299]]])"
      ]
     },
     "execution_count": 10,
     "metadata": {},
     "output_type": "execute_result"
    }
   ],
   "source": [
    "for i in range(d_out):\n",
    "    out[:, i, :] = np.sum(\n",
    "        X[:, i * stride : k_size + i * stride + 1, :, np.newaxis]\n",
    "        * params[np.newaxis, :, :, :],\n",
    "        axis=(1, 2),\n",
    "    )\n",
    "out\n"
   ]
  }
 ],
 "metadata": {
  "interpreter": {
   "hash": "89e649af5cc535be01307bbf28f6d989ed34956b91dbd298a04e0be1da293714"
  },
  "kernelspec": {
   "display_name": "Python 3.9.9 64-bit",
   "language": "python",
   "name": "python3"
  },
  "language_info": {
   "codemirror_mode": {
    "name": "ipython",
    "version": 3
   },
   "file_extension": ".py",
   "mimetype": "text/x-python",
   "name": "python",
   "nbconvert_exporter": "python",
   "pygments_lexer": "ipython3",
   "version": "3.9.9"
  },
  "orig_nbformat": 4
 },
 "nbformat": 4,
 "nbformat_minor": 2
}
