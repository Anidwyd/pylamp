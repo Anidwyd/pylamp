{
 "cells": [
  {
   "cell_type": "code",
   "execution_count": 1,
   "metadata": {},
   "outputs": [],
   "source": [
    "import numpy as np\n",
    "import torch\n",
    "import torch.nn as nn"
   ]
  },
  {
   "cell_type": "code",
   "execution_count": 2,
   "metadata": {},
   "outputs": [],
   "source": [
    "datax = [\n",
    "    [[0.1517, 0.5443, 0.1664, 0.2968, 0.1047, 0.2303, 0.7809, 0.8742]],\n",
    "    [[0.6482, 0.8415, 0.3437, 0.5621, 0.8318, 0.5978, 0.2179, 0.5826]],\n",
    "    [[0.0959, 0.5683, 0.8281, 0.2220, 0.7972, 0.3602, 0.9269, 0.3220]],\n",
    "    [[0.2017, 0.4027, 0.9019, 0.3093, 0.2855, 0.0226, 0.3115, 0.5141]],\n",
    "]\n",
    "\n",
    "# data shape\n",
    "batch = 4\n",
    "length = 8\n",
    "\n",
    "# conv shape\n",
    "k_size = 3\n",
    "chan_in = 1\n",
    "chan_out = 2\n",
    "\n",
    "params = np.random.rand(k_size, chan_in, chan_out)\n"
   ]
  },
  {
   "cell_type": "code",
   "execution_count": 3,
   "metadata": {},
   "outputs": [],
   "source": [
    "np_input = np.array(datax).reshape(batch, length, chan_in)\n",
    "th_input = torch.Tensor(datax)"
   ]
  },
  {
   "cell_type": "code",
   "execution_count": 4,
   "metadata": {},
   "outputs": [
    {
     "data": {
      "text/plain": [
       "array([[[-0.0065,  0.0458,  0.0321,  0.025 ,  0.0034,  0.0268],\n",
       "        [ 0.014 ,  0.0148, -0.0321,  0.0207, -0.0378,  0.0664]],\n",
       "\n",
       "       [[ 0.0237,  0.0799,  0.0429,  0.0454, -0.0204,  0.0518],\n",
       "        [ 0.0043,  0.0774,  0.0521,  0.0648,  0.0225,  0.0303]],\n",
       "\n",
       "       [[-0.043 ,  0.0469,  0.0224,  0.077 ,  0.0335,  0.0358],\n",
       "        [-0.015 ,  0.0672,  0.0214,  0.046 , -0.0036,  0.0802]],\n",
       "\n",
       "       [[-0.0329,  0.0363,  0.0015,  0.0792,  0.0621,  0.0439],\n",
       "        [ 0.0206,  0.029 ,  0.0111,  0.0082, -0.0291,  0.0251]]])"
      ]
     },
     "execution_count": 4,
     "metadata": {},
     "output_type": "execute_result"
    }
   ],
   "source": [
    "from lamp.conv import Conv1D\n",
    "\n",
    "m1 = Conv1D(k_size, chan_in, chan_out)\n",
    "output = m1.forward(np_input)\n",
    "np.round_(output.reshape(batch, chan_out, -1), decimals=4)"
   ]
  },
  {
   "cell_type": "code",
   "execution_count": 5,
   "metadata": {},
   "outputs": [
    {
     "data": {
      "text/plain": [
       "tensor([[[-0.3171, -0.5713, -0.3103, -0.4320, -0.5647, -0.6349],\n",
       "         [-0.2240, -0.4373, -0.3536, -0.4147, -0.0642,  0.1561]],\n",
       "\n",
       "        [[-0.6062, -0.8102, -0.6805, -0.6719, -0.6511, -0.7118],\n",
       "         [-0.1813, -0.3421,  0.0160, -0.0472, -0.3895, -0.3079]],\n",
       "\n",
       "        [[-0.5638, -0.5195, -0.9072, -0.4176, -0.9398, -0.4596],\n",
       "         [ 0.0930, -0.2155, -0.2829, -0.0605, -0.1618, -0.0684]],\n",
       "\n",
       "        [[-0.6514, -0.4753, -0.7255, -0.3431, -0.4643, -0.4123],\n",
       "         [ 0.0273, -0.0970, -0.4957, -0.4381, -0.4081, -0.1239]]],\n",
       "       grad_fn=<SqueezeBackward1>)"
      ]
     },
     "execution_count": 5,
     "metadata": {},
     "output_type": "execute_result"
    }
   ],
   "source": [
    "m2 = nn.Conv1d(chan_in, chan_out, k_size)\n",
    "output = m2(th_input)\n",
    "output"
   ]
  },
  {
   "cell_type": "code",
   "execution_count": 6,
   "metadata": {},
   "outputs": [
    {
     "data": {
      "text/plain": [
       "array([[[0.5443, 0.5443, 0.2968, 0.2968, 0.7809, 0.8742]],\n",
       "\n",
       "       [[0.8415, 0.8415, 0.8318, 0.8318, 0.8318, 0.5978]],\n",
       "\n",
       "       [[0.8281, 0.8281, 0.8281, 0.7972, 0.9269, 0.9269]],\n",
       "\n",
       "       [[0.9019, 0.9019, 0.9019, 0.3093, 0.3115, 0.5141]]])"
      ]
     },
     "execution_count": 6,
     "metadata": {},
     "output_type": "execute_result"
    }
   ],
   "source": [
    "from lamp import MaxPool1D\n",
    "\n",
    "m3 = MaxPool1D(k_size, stride=1)\n",
    "output = m3.forward(np_input)\n",
    "output.reshape(batch, chan_in, -1)"
   ]
  },
  {
   "cell_type": "code",
   "execution_count": 7,
   "metadata": {},
   "outputs": [
    {
     "data": {
      "text/plain": [
       "tensor([[[0.5443, 0.5443, 0.2968, 0.2968, 0.7809, 0.8742]],\n",
       "\n",
       "        [[0.8415, 0.8415, 0.8318, 0.8318, 0.8318, 0.5978]],\n",
       "\n",
       "        [[0.8281, 0.8281, 0.8281, 0.7972, 0.9269, 0.9269]],\n",
       "\n",
       "        [[0.9019, 0.9019, 0.9019, 0.3093, 0.3115, 0.5141]]])"
      ]
     },
     "execution_count": 7,
     "metadata": {},
     "output_type": "execute_result"
    }
   ],
   "source": [
    "m4 = nn.MaxPool1d(k_size, stride=1)\n",
    "output = m4(th_input)\n",
    "output"
   ]
  },
  {
   "cell_type": "code",
   "execution_count": 8,
   "metadata": {},
   "outputs": [
    {
     "data": {
      "text/plain": [
       "(torch.Size([4, 6]),\n",
       " tensor([[0.5443, 0.5443, 0.2968, 0.2968, 0.7809, 0.8742],\n",
       "         [0.8415, 0.8415, 0.8318, 0.8318, 0.8318, 0.5978],\n",
       "         [0.8281, 0.8281, 0.8281, 0.7972, 0.9269, 0.9269],\n",
       "         [0.9019, 0.9019, 0.9019, 0.3093, 0.3115, 0.5141]]))"
      ]
     },
     "execution_count": 8,
     "metadata": {},
     "output_type": "execute_result"
    }
   ],
   "source": [
    "input = m4(th_input)\n",
    "# With default parameters\n",
    "m6 = nn.Flatten()\n",
    "output = m6(input)\n",
    "output.size(), output"
   ]
  },
  {
   "cell_type": "code",
   "execution_count": 9,
   "metadata": {},
   "outputs": [
    {
     "data": {
      "text/plain": [
       "((4, 6),\n",
       " array([[0.5443, 0.5443, 0.2968, 0.2968, 0.7809, 0.8742],\n",
       "        [0.8415, 0.8415, 0.8318, 0.8318, 0.8318, 0.5978],\n",
       "        [0.8281, 0.8281, 0.8281, 0.7972, 0.9269, 0.9269],\n",
       "        [0.9019, 0.9019, 0.9019, 0.3093, 0.3115, 0.5141]]))"
      ]
     },
     "execution_count": 9,
     "metadata": {},
     "output_type": "execute_result"
    }
   ],
   "source": [
    "from lamp import Flatten\n",
    "\n",
    "input = m3.forward(np_input)\n",
    "\n",
    "m5 = Flatten()\n",
    "output = m5.forward(input)\n",
    "output.shape, output"
   ]
  }
 ],
 "metadata": {
  "interpreter": {
   "hash": "5a75615412e03e428e9a4c18cf4b9987160155d6a7443ebff4cfd9f3aaed23f2"
  },
  "kernelspec": {
   "display_name": "Python 3.9.9 64-bit",
   "language": "python",
   "name": "python3"
  },
  "language_info": {
   "codemirror_mode": {
    "name": "ipython",
    "version": 3
   },
   "file_extension": ".py",
   "mimetype": "text/x-python",
   "name": "python",
   "nbconvert_exporter": "python",
   "pygments_lexer": "ipython3",
   "version": "3.9.9"
  },
  "orig_nbformat": 4
 },
 "nbformat": 4,
 "nbformat_minor": 2
}
