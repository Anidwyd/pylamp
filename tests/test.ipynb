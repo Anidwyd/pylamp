{
 "cells": [
  {
   "cell_type": "code",
   "execution_count": 1,
   "metadata": {},
   "outputs": [],
   "source": [
    "import numpy as np\n",
    "import torch\n",
    "import torch.nn as nn"
   ]
  },
  {
   "cell_type": "code",
   "execution_count": 2,
   "metadata": {},
   "outputs": [],
   "source": [
    "datax = [\n",
    "    [[0.1517, 0.5443, 0.1664, 0.2968, 0.1047, 0.2303, 0.7809, 0.8742]],\n",
    "    [[0.6482, 0.8415, 0.3437, 0.5621, 0.8318, 0.5978, 0.2179, 0.5826]],\n",
    "    [[0.0959, 0.5683, 0.8281, 0.2220, 0.7972, 0.3602, 0.9269, 0.3220]],\n",
    "    [[0.2017, 0.4027, 0.9019, 0.3093, 0.2855, 0.0226, 0.3115, 0.5141]],\n",
    "]\n",
    "\n",
    "# data shape\n",
    "batch = 4\n",
    "length = 8\n",
    "\n",
    "# conv shape\n",
    "k_size = 3\n",
    "chan_in = 1\n",
    "chan_out = 2\n",
    "\n",
    "params = np.random.rand(k_size, chan_in, chan_out)\n"
   ]
  },
  {
   "cell_type": "code",
   "execution_count": 3,
   "metadata": {},
   "outputs": [],
   "source": [
    "np_input = np.array(datax).reshape(batch, length, chan_in)\n",
    "th_input = torch.Tensor(datax)"
   ]
  },
  {
   "cell_type": "code",
   "execution_count": 4,
   "metadata": {},
   "outputs": [
    {
     "data": {
      "text/plain": [
       "array([[[ 0.0124,  0.0392, -0.0249,  0.0099,  0.0034,  0.0195],\n",
       "        [-0.0164,  0.0101, -0.0329,  0.0554, -0.0156,  0.0917]],\n",
       "\n",
       "       [[ 0.0015,  0.0522, -0.0397,  0.0266, -0.0274,  0.0717],\n",
       "        [-0.0094,  0.0687, -0.0094,  0.0237, -0.039 ,  0.0275]],\n",
       "\n",
       "       [[-0.019 ,  0.0799,  0.0097,  0.0471, -0.0572,  0.0325],\n",
       "        [ 0.0121,  0.064 , -0.0564,  0.0496,  0.0159,  0.0657]],\n",
       "\n",
       "       [[-0.0341,  0.0701,  0.014 ,  0.062 , -0.0289,  0.0068],\n",
       "        [ 0.0025,  0.0095, -0.0242,  0.0098, -0.0126,  0.0481]]])"
      ]
     },
     "execution_count": 4,
     "metadata": {},
     "output_type": "execute_result"
    }
   ],
   "source": [
    "from lamp.conv import Conv1D\n",
    "\n",
    "m1 = Conv1D(k_size, chan_in, chan_out)\n",
    "output = m1.forward(np_input)\n",
    "np.round_(output.reshape(batch, chan_out, -1), decimals=4)"
   ]
  },
  {
   "cell_type": "code",
   "execution_count": 5,
   "metadata": {},
   "outputs": [
    {
     "data": {
      "text/plain": [
       "tensor([[[0.4631, 0.4323, 0.4794, 0.4581, 0.3771, 0.3392],\n",
       "         [0.5553, 0.6004, 0.4148, 0.4326, 0.6450, 1.0086]],\n",
       "\n",
       "        [[0.3994, 0.3689, 0.3463, 0.3638, 0.4167, 0.3824],\n",
       "         [0.9951, 0.9316, 0.9339, 1.0613, 0.9036, 0.7716]],\n",
       "\n",
       "        [[0.3601, 0.4234, 0.3357, 0.4210, 0.3127, 0.4158],\n",
       "         [0.8260, 0.9012, 0.9672, 0.7925, 1.0765, 0.9003]],\n",
       "\n",
       "        [[0.3475, 0.4163, 0.4107, 0.4851, 0.4482, 0.4216],\n",
       "         [0.8236, 0.9015, 0.8230, 0.4372, 0.4224, 0.5340]]],\n",
       "       grad_fn=<SqueezeBackward1>)"
      ]
     },
     "execution_count": 5,
     "metadata": {},
     "output_type": "execute_result"
    }
   ],
   "source": [
    "m2 = nn.Conv1d(chan_in, chan_out, k_size)\n",
    "output = m2(th_input)\n",
    "output"
   ]
  },
  {
   "cell_type": "code",
   "execution_count": 6,
   "metadata": {},
   "outputs": [
    {
     "data": {
      "text/plain": [
       "array([[[0.5443, 0.5443, 0.2968, 0.2968, 0.7809, 0.8742]],\n",
       "\n",
       "       [[0.8415, 0.8415, 0.8318, 0.8318, 0.8318, 0.5978]],\n",
       "\n",
       "       [[0.8281, 0.8281, 0.8281, 0.7972, 0.9269, 0.9269]],\n",
       "\n",
       "       [[0.9019, 0.9019, 0.9019, 0.3093, 0.3115, 0.5141]]])"
      ]
     },
     "execution_count": 6,
     "metadata": {},
     "output_type": "execute_result"
    }
   ],
   "source": [
    "from lamp import MaxPool1D\n",
    "\n",
    "m3 = MaxPool1D(k_size, stride=1)\n",
    "output = m3.forward(np_input)\n",
    "output.reshape(batch, chan_in, -1)"
   ]
  },
  {
   "cell_type": "code",
   "execution_count": 7,
   "metadata": {},
   "outputs": [
    {
     "data": {
      "text/plain": [
       "tensor([[[0.5443, 0.5443, 0.2968, 0.2968, 0.7809, 0.8742]],\n",
       "\n",
       "        [[0.8415, 0.8415, 0.8318, 0.8318, 0.8318, 0.5978]],\n",
       "\n",
       "        [[0.8281, 0.8281, 0.8281, 0.7972, 0.9269, 0.9269]],\n",
       "\n",
       "        [[0.9019, 0.9019, 0.9019, 0.3093, 0.3115, 0.5141]]])"
      ]
     },
     "execution_count": 7,
     "metadata": {},
     "output_type": "execute_result"
    }
   ],
   "source": [
    "m4 = nn.MaxPool1d(k_size, stride=1)\n",
    "output = m4(th_input)\n",
    "output"
   ]
  },
  {
   "cell_type": "code",
   "execution_count": 15,
   "metadata": {},
   "outputs": [
    {
     "data": {
      "text/plain": [
       "(torch.Size([4, 6]),\n",
       " tensor([[0.5443, 0.5443, 0.2968, 0.2968, 0.7809, 0.8742],\n",
       "         [0.8415, 0.8415, 0.8318, 0.8318, 0.8318, 0.5978],\n",
       "         [0.8281, 0.8281, 0.8281, 0.7972, 0.9269, 0.9269],\n",
       "         [0.9019, 0.9019, 0.9019, 0.3093, 0.3115, 0.5141]]))"
      ]
     },
     "execution_count": 15,
     "metadata": {},
     "output_type": "execute_result"
    }
   ],
   "source": [
    "input = m4(th_input)\n",
    "# With default parameters\n",
    "m6 = nn.Flatten()\n",
    "output = m6(input)\n",
    "output.size(), output"
   ]
  },
  {
   "cell_type": "code",
   "execution_count": 16,
   "metadata": {},
   "outputs": [
    {
     "data": {
      "text/plain": [
       "((4, 6),\n",
       " array([[0.5443, 0.5443, 0.2968, 0.2968, 0.7809, 0.8742],\n",
       "        [0.8415, 0.8415, 0.8318, 0.8318, 0.8318, 0.5978],\n",
       "        [0.8281, 0.8281, 0.8281, 0.7972, 0.9269, 0.9269],\n",
       "        [0.9019, 0.9019, 0.9019, 0.3093, 0.3115, 0.5141]]))"
      ]
     },
     "execution_count": 16,
     "metadata": {},
     "output_type": "execute_result"
    }
   ],
   "source": [
    "from lamp import Flatten\n",
    "\n",
    "input = m3.forward(np_input)\n",
    "\n",
    "m5 = Flatten()\n",
    "output = m5.forward(input)\n",
    "output.shape, output"
   ]
  }
 ],
 "metadata": {
  "interpreter": {
   "hash": "5a75615412e03e428e9a4c18cf4b9987160155d6a7443ebff4cfd9f3aaed23f2"
  },
  "kernelspec": {
   "display_name": "Python 3.9.9 64-bit",
   "language": "python",
   "name": "python3"
  },
  "language_info": {
   "codemirror_mode": {
    "name": "ipython",
    "version": 3
   },
   "file_extension": ".py",
   "mimetype": "text/x-python",
   "name": "python",
   "nbconvert_exporter": "python",
   "pygments_lexer": "ipython3",
   "version": "3.9.9"
  },
  "orig_nbformat": 4
 },
 "nbformat": 4,
 "nbformat_minor": 2
}
