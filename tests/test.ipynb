{
 "cells": [
  {
   "cell_type": "code",
   "execution_count": 3,
   "metadata": {},
   "outputs": [],
   "source": [
    "import numpy as np\n",
    "import torch\n",
    "import torch.nn as nn\n",
    "\n",
    "from lamp import *"
   ]
  },
  {
   "cell_type": "code",
   "execution_count": 4,
   "metadata": {},
   "outputs": [],
   "source": [
    "datax = [\n",
    "    [[0.1517, 0.5443, 0.1664, 0.2968, 0.1047, 0.2303, 0.7809, 0.8742]],\n",
    "    [[0.6482, 0.8415, 0.3437, 0.5621, 0.8318, 0.5978, 0.2179, 0.5826]],\n",
    "    # [[0.0959, 0.5683, 0.8281, 0.2220, 0.7972, 0.3602, 0.9269, 0.3220]],\n",
    "    # [[0.2017, 0.4027, 0.9019, 0.3093, 0.2855, 0.0226, 0.3115, 0.5141]],\n",
    "]\n",
    "\n",
    "# data shape\n",
    "batch, chan_in, length = np.array(datax).shape\n",
    "\n",
    "# conv shape\n",
    "k_size = 3\n",
    "chan_out = 2\n",
    "\n",
    "params = np.random.rand(k_size, chan_in, chan_out)\n",
    "np_input = np.array(datax).reshape(batch, length, chan_in)\n",
    "th_input = torch.Tensor(datax)"
   ]
  },
  {
   "cell_type": "code",
   "execution_count": 5,
   "metadata": {},
   "outputs": [
    {
     "name": "stdout",
     "output_type": "stream",
     "text": [
      "(2, 6, 2)\n"
     ]
    },
    {
     "data": {
      "text/plain": [
       "array([[[-0.0338,  0.0385, -0.036 , -0.0084, -0.0223,  0.0184],\n",
       "        [-0.0214, -0.0054, -0.0281, -0.0055, -0.0598,  0.0363]],\n",
       "\n",
       "       [[-0.0716,  0.0461, -0.0613, -0.0085, -0.0541,  0.0156],\n",
       "        [-0.0717,  0.0401, -0.0665,  0.0238, -0.0455, -0.0137]]])"
      ]
     },
     "execution_count": 5,
     "metadata": {},
     "output_type": "execute_result"
    }
   ],
   "source": [
    "conv = Conv1D(k_size, chan_in, chan_out)\n",
    "output = conv.forward(np_input)\n",
    "print(output.shape)\n",
    "np.round_(output.reshape(batch, chan_out, -1), decimals=4)"
   ]
  },
  {
   "cell_type": "code",
   "execution_count": null,
   "metadata": {},
   "outputs": [],
   "source": []
  },
  {
   "cell_type": "code",
   "execution_count": 6,
   "metadata": {},
   "outputs": [
    {
     "data": {
      "text/plain": [
       "torch.Size([2, 2, 6])"
      ]
     },
     "execution_count": 6,
     "metadata": {},
     "output_type": "execute_result"
    }
   ],
   "source": [
    "conv_ = nn.Conv1d(chan_in, chan_out, k_size)\n",
    "output = conv_(th_input)\n",
    "output.shape"
   ]
  },
  {
   "cell_type": "code",
   "execution_count": 7,
   "metadata": {},
   "outputs": [],
   "source": [
    "maxp = MaxPool1D(k_size, stride=1)\n",
    "# output = maxp.forward(np_input)\n",
    "# output.reshape(batch, chan_in, -1)"
   ]
  },
  {
   "cell_type": "code",
   "execution_count": 8,
   "metadata": {},
   "outputs": [
    {
     "data": {
      "text/plain": [
       "tensor([[[0.5443, 0.5443, 0.2968, 0.2968, 0.7809, 0.8742]],\n",
       "\n",
       "        [[0.8415, 0.8415, 0.8318, 0.8318, 0.8318, 0.5978]]])"
      ]
     },
     "execution_count": 8,
     "metadata": {},
     "output_type": "execute_result"
    }
   ],
   "source": [
    "maxp_ = nn.MaxPool1d(k_size, stride=1)\n",
    "output = maxp_(th_input)\n",
    "output"
   ]
  },
  {
   "cell_type": "code",
   "execution_count": 9,
   "metadata": {},
   "outputs": [
    {
     "data": {
      "text/plain": [
       "array([[[0.5443, 0.2968]],\n",
       "\n",
       "       [[0.8415, 0.8318]]])"
      ]
     },
     "execution_count": 9,
     "metadata": {},
     "output_type": "execute_result"
    }
   ],
   "source": [
    "stride = 3\n",
    "d_out = (length - k_size) // stride + 1\n",
    "res = np.zeros((batch, d_out, chan_in))\n",
    "\n",
    "for k in range(d_out):\n",
    "    t1, t2 = stride * k, 2 * (k_size // 2) + k * stride + 1\n",
    "    res[:, k, :] = np.amax(np_input[:, t1:t2, :], axis=1)\n",
    "\n",
    "res.reshape(batch, chan_in, -1)"
   ]
  },
  {
   "cell_type": "code",
   "execution_count": 10,
   "metadata": {},
   "outputs": [
    {
     "name": "stdout",
     "output_type": "stream",
     "text": [
      "[[[0.1517]\n",
      "  [0.5443]\n",
      "  [0.1664]\n",
      "  [0.2968]\n",
      "  [0.1047]\n",
      "  [0.2303]\n",
      "  [0.7809]\n",
      "  [0.8742]]\n",
      "\n",
      " [[0.6482]\n",
      "  [0.8415]\n",
      "  [0.3437]\n",
      "  [0.5621]\n",
      "  [0.8318]\n",
      "  [0.5978]\n",
      "  [0.2179]\n",
      "  [0.5826]]]\n",
      "[]\n",
      "[]\n"
     ]
    }
   ],
   "source": [
    "res = np.zeros((batch, d_out, chan_in))\n",
    "print(np_input)\n",
    "\n",
    "for k in range(d_out):\n",
    "    t1, t2 = stride * k, 2 * (k_size // 2) + k * stride + 1\n",
    "    amax = np.amax(np_input[:, t1:t2, :], axis=1).flatten()\n",
    "    # print(amax)\n",
    "    # print(np.where(np_input == amax, 1, 0))\n",
    "    idx = np.where(np.all(np_input == amax, axis=-1))[0]\n",
    "    print(idx)\n",
    "    # res[:, k, :] = np_input[:, idx:]\n",
    "\n",
    "# res.reshape(batch, chan_in, -1)"
   ]
  },
  {
   "cell_type": "code",
   "execution_count": 11,
   "metadata": {},
   "outputs": [
    {
     "data": {
      "text/plain": [
       "(torch.Size([2, 6]),\n",
       " tensor([[0.5443, 0.5443, 0.2968, 0.2968, 0.7809, 0.8742],\n",
       "         [0.8415, 0.8415, 0.8318, 0.8318, 0.8318, 0.5978]]))"
      ]
     },
     "execution_count": 11,
     "metadata": {},
     "output_type": "execute_result"
    }
   ],
   "source": [
    "input = maxp_(th_input)\n",
    "\n",
    "m6 = nn.Flatten()\n",
    "output = m6(input)\n",
    "output.size(), output"
   ]
  },
  {
   "cell_type": "code",
   "execution_count": 12,
   "metadata": {},
   "outputs": [
    {
     "ename": "TypeError",
     "evalue": "slice indices must be integers or None or have an __index__ method",
     "output_type": "error",
     "traceback": [
      "\u001b[1;31m---------------------------------------------------------------------------\u001b[0m",
      "\u001b[1;31mTypeError\u001b[0m                                 Traceback (most recent call last)",
      "\u001b[1;32m~\\AppData\\Local\\Temp/ipykernel_9892/2325501315.py\u001b[0m in \u001b[0;36m<module>\u001b[1;34m\u001b[0m\n\u001b[1;32m----> 1\u001b[1;33m \u001b[0minput\u001b[0m \u001b[1;33m=\u001b[0m \u001b[0mmaxp\u001b[0m\u001b[1;33m.\u001b[0m\u001b[0mforward\u001b[0m\u001b[1;33m(\u001b[0m\u001b[0mnp_input\u001b[0m\u001b[1;33m)\u001b[0m\u001b[1;33m\u001b[0m\u001b[1;33m\u001b[0m\u001b[0m\n\u001b[0m\u001b[0;32m      2\u001b[0m \u001b[1;33m\u001b[0m\u001b[0m\n\u001b[0;32m      3\u001b[0m \u001b[0mm5\u001b[0m \u001b[1;33m=\u001b[0m \u001b[0mFlatten\u001b[0m\u001b[1;33m(\u001b[0m\u001b[1;33m)\u001b[0m\u001b[1;33m\u001b[0m\u001b[1;33m\u001b[0m\u001b[0m\n\u001b[0;32m      4\u001b[0m \u001b[0moutput\u001b[0m \u001b[1;33m=\u001b[0m \u001b[0mm5\u001b[0m\u001b[1;33m.\u001b[0m\u001b[0mforward\u001b[0m\u001b[1;33m(\u001b[0m\u001b[0minput\u001b[0m\u001b[1;33m)\u001b[0m\u001b[1;33m\u001b[0m\u001b[1;33m\u001b[0m\u001b[0m\n\u001b[0;32m      5\u001b[0m \u001b[0moutput\u001b[0m\u001b[1;33m.\u001b[0m\u001b[0mshape\u001b[0m\u001b[1;33m,\u001b[0m \u001b[0moutput\u001b[0m\u001b[1;33m\u001b[0m\u001b[1;33m\u001b[0m\u001b[0m\n",
      "\u001b[1;32mc:\\Users\\julie\\AppData\\Local\\Programs\\Python\\Python39\\lib\\site-packages\\lamp-1.0-py3.9.egg\\lamp\\pooling.py\u001b[0m in \u001b[0;36mforward\u001b[1;34m(self, X)\u001b[0m\n\u001b[0;32m     24\u001b[0m             \u001b[0mt1\u001b[0m\u001b[1;33m,\u001b[0m \u001b[0mt2\u001b[0m \u001b[1;33m=\u001b[0m \u001b[0mself\u001b[0m\u001b[1;33m.\u001b[0m\u001b[0mstride\u001b[0m \u001b[1;33m*\u001b[0m \u001b[0mk\u001b[0m\u001b[1;33m,\u001b[0m \u001b[1;36m2\u001b[0m \u001b[1;33m*\u001b[0m \u001b[1;33m(\u001b[0m\u001b[0mself\u001b[0m\u001b[1;33m.\u001b[0m\u001b[0mk_size\u001b[0m \u001b[1;33m//\u001b[0m \u001b[1;36m2\u001b[0m\u001b[1;33m)\u001b[0m \u001b[1;33m+\u001b[0m \u001b[0mk\u001b[0m \u001b[1;33m*\u001b[0m \u001b[0mself\u001b[0m\u001b[1;33m.\u001b[0m\u001b[0mstride\u001b[0m \u001b[1;33m+\u001b[0m \u001b[1;36m1\u001b[0m\u001b[1;33m\u001b[0m\u001b[1;33m\u001b[0m\u001b[0m\n\u001b[0;32m     25\u001b[0m             \u001b[0mself\u001b[0m\u001b[1;33m.\u001b[0m\u001b[0mindx\u001b[0m \u001b[1;33m=\u001b[0m \u001b[0mnp\u001b[0m\u001b[1;33m.\u001b[0m\u001b[0mwhere\u001b[0m\u001b[1;33m(\u001b[0m\u001b[0mX\u001b[0m \u001b[1;33m==\u001b[0m \u001b[0mnp\u001b[0m\u001b[1;33m.\u001b[0m\u001b[0mamax\u001b[0m\u001b[1;33m(\u001b[0m\u001b[0mX\u001b[0m\u001b[1;33m[\u001b[0m\u001b[1;33m:\u001b[0m\u001b[1;33m,\u001b[0m \u001b[0mt1\u001b[0m\u001b[1;33m:\u001b[0m\u001b[0mt2\u001b[0m\u001b[1;33m,\u001b[0m \u001b[1;33m:\u001b[0m\u001b[1;33m]\u001b[0m\u001b[1;33m,\u001b[0m \u001b[0maxis\u001b[0m\u001b[1;33m=\u001b[0m\u001b[1;36m1\u001b[0m\u001b[1;33m)\u001b[0m\u001b[1;33m)\u001b[0m\u001b[1;33m\u001b[0m\u001b[1;33m\u001b[0m\u001b[0m\n\u001b[1;32m---> 26\u001b[1;33m             \u001b[0mres\u001b[0m\u001b[1;33m[\u001b[0m\u001b[1;33m:\u001b[0m\u001b[1;33m,\u001b[0m \u001b[0mk\u001b[0m\u001b[1;33m,\u001b[0m \u001b[1;33m:\u001b[0m\u001b[1;33m]\u001b[0m \u001b[1;33m=\u001b[0m \u001b[0mX\u001b[0m\u001b[1;33m[\u001b[0m\u001b[1;33m:\u001b[0m\u001b[1;33m,\u001b[0m \u001b[0mself\u001b[0m\u001b[1;33m.\u001b[0m\u001b[0mindx\u001b[0m \u001b[1;33m:\u001b[0m\u001b[1;33m]\u001b[0m\u001b[1;33m\u001b[0m\u001b[1;33m\u001b[0m\u001b[0m\n\u001b[0m\u001b[0;32m     27\u001b[0m \u001b[1;33m\u001b[0m\u001b[0m\n\u001b[0;32m     28\u001b[0m         \u001b[1;32mreturn\u001b[0m \u001b[0mres\u001b[0m\u001b[1;33m\u001b[0m\u001b[1;33m\u001b[0m\u001b[0m\n",
      "\u001b[1;31mTypeError\u001b[0m: slice indices must be integers or None or have an __index__ method"
     ]
    }
   ],
   "source": [
    "input = maxp.forward(np_input)\n",
    "\n",
    "m5 = Flatten()\n",
    "output = m5.forward(input)\n",
    "output.shape, output"
   ]
  },
  {
   "cell_type": "code",
   "execution_count": null,
   "metadata": {},
   "outputs": [
    {
     "name": "stdout",
     "output_type": "stream",
     "text": [
      "[[[1. 1.]\n",
      "  [1. 1.]\n",
      "  [1. 1.]]\n",
      "\n",
      " [[1. 1.]\n",
      "  [1. 1.]\n",
      "  [1. 1.]]\n",
      "\n",
      " [[1. 1.]\n",
      "  [1. 1.]\n",
      "  [1. 1.]]\n",
      "\n",
      " [[1. 1.]\n",
      "  [1. 1.]\n",
      "  [1. 1.]]]\n",
      "[[[0. 0.]\n",
      "  [1. 1.]\n",
      "  [1. 1.]\n",
      "  [1. 1.]]\n",
      "\n",
      " [[0. 0.]\n",
      "  [1. 1.]\n",
      "  [1. 1.]\n",
      "  [1. 1.]]\n",
      "\n",
      " [[0. 0.]\n",
      "  [1. 1.]\n",
      "  [1. 1.]\n",
      "  [1. 1.]]\n",
      "\n",
      " [[0. 0.]\n",
      "  [1. 1.]\n",
      "  [1. 1.]\n",
      "  [1. 1.]]]\n",
      "(4, 4, 2)\n",
      "(4, 8, 2)\n"
     ]
    }
   ],
   "source": [
    "a = np.ones((4, 3, 2))\n",
    "print(a)\n",
    "a = np.insert(a,[0],0 ,axis= 1)\n",
    "\n",
    "print(a)\n",
    "print(a.shape)\n",
    "\n",
    "for i in range(0, 8):\n",
    "    if i%2 != 0 :   \n",
    "        a = np.insert(a,i,0 ,axis= 1)\n",
    "print(a.shape)        \n"
   ]
  },
  {
   "cell_type": "code",
   "execution_count": 23,
   "metadata": {},
   "outputs": [
    {
     "name": "stdout",
     "output_type": "stream",
     "text": [
      "(2, 3, 2)\n",
      "(2, 5, 2)\n",
      "kd 0  kr 0\n",
      "None -1 0 0\n",
      "[[[[0.0905757  0.43566882]]]]\n",
      "[[[[ 0.03607543 -0.03728876]]]\n",
      "\n",
      "\n",
      " [[[ 0.10302157  0.00078448]]]]\n",
      "kd 1  kr 2\n",
      "1\n",
      "-1 -3 2 1\n",
      "[[[[0.0905757  0.43566882]]\n",
      "\n",
      "  [[0.50732829 0.46798477]]]]\n",
      "[[[[ 0.          0.        ]]\n",
      "\n",
      "  [[ 0.03017006 -0.01237305]]]\n",
      "\n",
      "\n",
      " [[[ 0.          0.        ]]\n",
      "\n",
      "  [[ 0.07290172 -0.04585366]]]]\n",
      "kd 2  kr 4\n",
      "-1 -4 4 2\n",
      "[[[[0.0905757  0.43566882]]\n",
      "\n",
      "  [[0.50732829 0.46798477]]\n",
      "\n",
      "  [[0.06005251 0.89085364]]]]\n",
      "[[[[ 0.04177868 -0.02974892]]\n",
      "\n",
      "  [[ 0.          0.        ]]\n",
      "\n",
      "  [[ 0.03017006 -0.01237305]]]\n",
      "\n",
      "\n",
      " [[[ 0.10148305 -0.02762399]]\n",
      "\n",
      "  [[ 0.          0.        ]]\n",
      "\n",
      "  [[ 0.07290172 -0.04585366]]]]\n",
      "kd 3  kr 6\n",
      "-2 -5 6 3\n",
      "[[[[0.0905757  0.43566882]]\n",
      "\n",
      "  [[0.50732829 0.46798477]]\n",
      "\n",
      "  [[0.06005251 0.89085364]]]]\n",
      "[[[[ 0.          0.        ]]\n",
      "\n",
      "  [[ 0.04177868 -0.02974892]]\n",
      "\n",
      "  [[ 0.          0.        ]]]\n",
      "\n",
      "\n",
      " [[[ 0.          0.        ]]\n",
      "\n",
      "  [[ 0.10148305 -0.02762399]]\n",
      "\n",
      "  [[ 0.          0.        ]]]]\n"
     ]
    },
    {
     "data": {
      "text/plain": [
       "((2, 8, 1), (2, 8, 1))"
      ]
     },
     "execution_count": 23,
     "metadata": {},
     "output_type": "execute_result"
    }
   ],
   "source": [
    "stride = 2\n",
    "m1 = Conv1D(k_size, chan_in, chan_out, stride=stride)\n",
    "delta = m1.forward(np_input)\n",
    "\n",
    "\n",
    "\n",
    "print(delta.shape)\n",
    "d_out = length\n",
    "\n",
    "res = np.zeros((batch, length, chan_in))\n",
    "\n",
    "if stride>1:\n",
    "    for i in range(0,m1.sizeOut +1):\n",
    "        if i%stride != 1 :\n",
    "            delta = np.insert(delta, i, 0, axis= 1)\n",
    "print(delta.shape)\n",
    "for kd, kr in enumerate(list(range(0, d_out, stride))):\n",
    "    print(\"kd\", kd, \" kr\", kr)\n",
    "    t1, t2 = 0, k_size\n",
    "    d1 = -kd - 2 + k_size\n",
    "    d2 = -kd - 2\n",
    "\n",
    "    if kd == 0:\n",
    "        t1, t2 = 0, kd + 1\n",
    "        d1, d2 = None, -1\n",
    "\n",
    "    elif kd < k_size - 1:\n",
    "        print(\"1\")\n",
    "        t1, t2 = 0, kd + 1\n",
    "        d1, d2 = -1, -kd - 2\n",
    "\n",
    "    elif kd > d_out - (k_size + 1):\n",
    "        print(\"2\")\n",
    "        t1, t2 = k_size - d_out + kd, k_size\n",
    "        d1, d2 = -kd + 2, 0\n",
    "\n",
    "    print(d1, d2, kr, kd)\n",
    "    print(np.flip(params, axis=1)[np.newaxis, t1:t2, :, :])\n",
    "    print(delta[:, d2:d1, np.newaxis, :])\n",
    "\n",
    "    res[:, kr, :] = np.sum(\n",
    "        np.flip(params, axis=1)[np.newaxis, t1:t2, :, :]\n",
    "        * delta[:, d2:d1, np.newaxis, :],\n",
    "        axis=(1, 3),\n",
    "    )\n",
    "\n",
    "res.shape, np_input.shape\n"
   ]
  }
 ],
 "metadata": {
  "interpreter": {
   "hash": "0f03f176c61851f26f55848771ac40ab32fbe2b2ba9ade887bd40f44338896c9"
  },
  "kernelspec": {
   "display_name": "Python 3.9.0 64-bit",
   "language": "python",
   "name": "python3"
  },
  "language_info": {
   "codemirror_mode": {
    "name": "ipython",
    "version": 3
   },
   "file_extension": ".py",
   "mimetype": "text/x-python",
   "name": "python",
   "nbconvert_exporter": "python",
   "pygments_lexer": "ipython3",
   "version": "3.9.0"
  },
  "orig_nbformat": 4
 },
 "nbformat": 4,
 "nbformat_minor": 2
}
