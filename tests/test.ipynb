{
 "cells": [
  {
   "cell_type": "code",
   "execution_count": 1,
   "metadata": {},
   "outputs": [],
   "source": [
    "import numpy as np\n",
    "import torch\n",
    "import torch.nn as nn\n",
    "\n",
    "from lamp import *"
   ]
  },
  {
   "cell_type": "code",
   "execution_count": 64,
   "metadata": {},
   "outputs": [],
   "source": [
    "datax = [\n",
    "    [[0.1517, 0.5443, 0.1664, 0.2968, 0.1047, 0.2303, 0.7809, 0.8742]],\n",
    "    [[0.6482, 0.8415, 0.3437, 0.5621, 0.8318, 0.5978, 0.2179, 0.5826]],\n",
    "    # [[0.0959, 0.5683, 0.8281, 0.2220, 0.7972, 0.3602, 0.9269, 0.3220]],\n",
    "    # [[0.2017, 0.4027, 0.9019, 0.3093, 0.2855, 0.0226, 0.3115, 0.5141]],\n",
    "]\n",
    "\n",
    "# data shape\n",
    "batch, chan_in, length = np.array(datax).shape\n",
    "\n",
    "# conv shape\n",
    "k_size = 3\n",
    "chan_out = 2\n",
    "\n",
    "params = np.random.rand(k_size, chan_in, chan_out)\n",
    "np_input = np.array(datax).reshape(batch, length, chan_in)\n",
    "th_input = torch.Tensor(datax)"
   ]
  },
  {
   "cell_type": "code",
   "execution_count": 4,
   "metadata": {},
   "outputs": [
    {
     "name": "stdout",
     "output_type": "stream",
     "text": [
      "(4, 6, 2)\n"
     ]
    },
    {
     "data": {
      "text/plain": [
       "array([[[ 0.0542,  0.022 , -0.006 ,  0.0323,  0.0232,  0.0138],\n",
       "        [ 0.0046,  0.024 ,  0.0869,  0.0743,  0.1372,  0.0896]],\n",
       "\n",
       "       [[ 0.0538,  0.0445,  0.0089,  0.0603,  0.1016,  0.0841],\n",
       "        [ 0.085 ,  0.067 ,  0.0014,  0.0316,  0.0212,  0.0593]],\n",
       "\n",
       "       [[ 0.1247,  0.0822,  0.0483,  0.0328,  0.0208,  0.0804],\n",
       "        [ 0.0905,  0.0428,  0.0493,  0.0935,  0.0866,  0.0416]],\n",
       "\n",
       "       [[ 0.1061,  0.0878,  0.079 ,  0.0404, -0.0264,  0.0351],\n",
       "        [ 0.001 ,  0.0071,  0.0055,  0.0305,  0.0769,  0.0504]]])"
      ]
     },
     "execution_count": 4,
     "metadata": {},
     "output_type": "execute_result"
    }
   ],
   "source": [
    "conv = Conv1D(k_size, chan_in, chan_out)\n",
    "output = conv.forward(np_input)\n",
    "print(output.shape)\n",
    "np.round_(output.reshape(batch, chan_out, -1), decimals=4)"
   ]
  },
  {
   "cell_type": "code",
   "execution_count": null,
   "metadata": {},
   "outputs": [],
   "source": []
  },
  {
   "cell_type": "code",
   "execution_count": 5,
   "metadata": {},
   "outputs": [
    {
     "data": {
      "text/plain": [
       "torch.Size([4, 2, 6])"
      ]
     },
     "execution_count": 5,
     "metadata": {},
     "output_type": "execute_result"
    }
   ],
   "source": [
    "conv_ = nn.Conv1d(chan_in, chan_out, k_size)\n",
    "output = conv_(th_input)\n",
    "output.shape"
   ]
  },
  {
   "cell_type": "code",
   "execution_count": 11,
   "metadata": {},
   "outputs": [],
   "source": [
    "maxp = MaxPool1D(k_size, stride=1)\n",
    "# output = maxp.forward(np_input)\n",
    "# output.reshape(batch, chan_in, -1)"
   ]
  },
  {
   "cell_type": "code",
   "execution_count": 7,
   "metadata": {},
   "outputs": [
    {
     "data": {
      "text/plain": [
       "tensor([[[0.5443, 0.5443, 0.2968, 0.2968, 0.7809, 0.8742]],\n",
       "\n",
       "        [[0.8415, 0.8415, 0.8318, 0.8318, 0.8318, 0.5978]],\n",
       "\n",
       "        [[0.8281, 0.8281, 0.8281, 0.7972, 0.9269, 0.9269]],\n",
       "\n",
       "        [[0.9019, 0.9019, 0.9019, 0.3093, 0.3115, 0.5141]]])"
      ]
     },
     "execution_count": 7,
     "metadata": {},
     "output_type": "execute_result"
    }
   ],
   "source": [
    "maxp_ = nn.MaxPool1d(k_size, stride=1)\n",
    "output = maxp_(th_input)\n",
    "output"
   ]
  },
  {
   "cell_type": "code",
   "execution_count": 54,
   "metadata": {},
   "outputs": [
    {
     "data": {
      "text/plain": [
       "array([[[0.5443, 0.2968]]])"
      ]
     },
     "execution_count": 54,
     "metadata": {},
     "output_type": "execute_result"
    }
   ],
   "source": [
    "stride = 3\n",
    "d_out = (length - k_size) // stride + 1\n",
    "res = np.zeros((batch, d_out, chan_in))\n",
    "\n",
    "for k in range(d_out):\n",
    "    t1, t2 = stride * k, 2 * (k_size // 2) + k * stride + 1\n",
    "    res[:, k, :] = np.amax(np_input[:, t1:t2, :], axis=1)\n",
    "\n",
    "res.reshape(batch, chan_in, -1)"
   ]
  },
  {
   "cell_type": "code",
   "execution_count": 69,
   "metadata": {},
   "outputs": [
    {
     "name": "stdout",
     "output_type": "stream",
     "text": [
      "[[[0.1517]\n",
      "  [0.5443]\n",
      "  [0.1664]\n",
      "  [0.2968]\n",
      "  [0.1047]\n",
      "  [0.2303]\n",
      "  [0.7809]\n",
      "  [0.8742]]\n",
      "\n",
      " [[0.6482]\n",
      "  [0.8415]\n",
      "  [0.3437]\n",
      "  [0.5621]\n",
      "  [0.8318]\n",
      "  [0.5978]\n",
      "  [0.2179]\n",
      "  [0.5826]]]\n",
      "[]\n",
      "[]\n"
     ]
    }
   ],
   "source": [
    "res = np.zeros((batch, d_out, chan_in))\n",
    "print(np_input)\n",
    "\n",
    "for k in range(d_out):\n",
    "    t1, t2 = stride * k, 2 * (k_size // 2) + k * stride + 1\n",
    "    amax = np.amax(np_input[:, t1:t2, :], axis=1).flatten()\n",
    "    # print(amax)\n",
    "    # print(np.where(np_input == amax, 1, 0))\n",
    "    idx = np.where(np.all(np_input == amax, axis=-1))[0]\n",
    "    print(idx)\n",
    "    # res[:, k, :] = np_input[:, idx:]\n",
    "\n",
    "# res.reshape(batch, chan_in, -1)"
   ]
  },
  {
   "cell_type": "code",
   "execution_count": 8,
   "metadata": {},
   "outputs": [
    {
     "data": {
      "text/plain": [
       "(torch.Size([4, 6]),\n",
       " tensor([[0.5443, 0.5443, 0.2968, 0.2968, 0.7809, 0.8742],\n",
       "         [0.8415, 0.8415, 0.8318, 0.8318, 0.8318, 0.5978],\n",
       "         [0.8281, 0.8281, 0.8281, 0.7972, 0.9269, 0.9269],\n",
       "         [0.9019, 0.9019, 0.9019, 0.3093, 0.3115, 0.5141]]))"
      ]
     },
     "execution_count": 8,
     "metadata": {},
     "output_type": "execute_result"
    }
   ],
   "source": [
    "input = maxp_(th_input)\n",
    "\n",
    "m6 = nn.Flatten()\n",
    "output = m6(input)\n",
    "output.size(), output"
   ]
  },
  {
   "cell_type": "code",
   "execution_count": 9,
   "metadata": {},
   "outputs": [
    {
     "ename": "NameError",
     "evalue": "name 'maxp' is not defined",
     "output_type": "error",
     "traceback": [
      "\u001b[1;31m---------------------------------------------------------------------------\u001b[0m",
      "\u001b[1;31mNameError\u001b[0m                                 Traceback (most recent call last)",
      "\u001b[1;32mc:\\Users\\Jules Dubreuil\\Documents\\universite\\machine-learning\\pylamp\\tests\\test.ipynb Cell 9'\u001b[0m in \u001b[0;36m<cell line: 1>\u001b[1;34m()\u001b[0m\n\u001b[1;32m----> <a href='vscode-notebook-cell:/c%3A/Users/Jules%20Dubreuil/Documents/universite/machine-learning/pylamp/tests/test.ipynb#ch0000008?line=0'>1</a>\u001b[0m \u001b[39minput\u001b[39m \u001b[39m=\u001b[39m maxp\u001b[39m.\u001b[39mforward(np_input)\n\u001b[0;32m      <a href='vscode-notebook-cell:/c%3A/Users/Jules%20Dubreuil/Documents/universite/machine-learning/pylamp/tests/test.ipynb#ch0000008?line=2'>3</a>\u001b[0m m5 \u001b[39m=\u001b[39m Flatten()\n\u001b[0;32m      <a href='vscode-notebook-cell:/c%3A/Users/Jules%20Dubreuil/Documents/universite/machine-learning/pylamp/tests/test.ipynb#ch0000008?line=3'>4</a>\u001b[0m output \u001b[39m=\u001b[39m m5\u001b[39m.\u001b[39mforward(\u001b[39minput\u001b[39m)\n",
      "\u001b[1;31mNameError\u001b[0m: name 'maxp' is not defined"
     ]
    }
   ],
   "source": [
    "input = maxp.forward(np_input)\n",
    "\n",
    "m5 = Flatten()\n",
    "output = m5.forward(input)\n",
    "output.shape, output"
   ]
  },
  {
   "cell_type": "code",
   "execution_count": null,
   "metadata": {},
   "outputs": [],
   "source": [
    "np.arange"
   ]
  },
  {
   "cell_type": "code",
   "execution_count": 152,
   "metadata": {},
   "outputs": [
    {
     "name": "stdout",
     "output_type": "stream",
     "text": [
      "(2, 6, 2)\n",
      "kd 0  kr 0\n",
      "None -1 0 0\n",
      "[[[[0.87594111 0.54180094]]]]\n",
      "[[[[-0.05562612 -0.07655721]]]\n",
      "\n",
      "\n",
      " [[[-0.04782823 -0.03788913]]]]\n",
      "kd 1  kr 1\n",
      "1\n",
      "-1 -3 1 1\n",
      "[[[[0.87594111 0.54180094]]\n",
      "\n",
      "  [[0.50938715 0.6180765 ]]]]\n",
      "[[[[-0.02129233 -0.01353966]]\n",
      "\n",
      "  [[-0.03897679 -0.06823244]]]\n",
      "\n",
      "\n",
      " [[[-0.05667553 -0.04375157]]\n",
      "\n",
      "  [[-0.04696213 -0.00164538]]]]\n",
      "kd 2  kr 2\n",
      "-1 -4 2 2\n",
      "[[[[0.87594111 0.54180094]]\n",
      "\n",
      "  [[0.50938715 0.6180765 ]]\n",
      "\n",
      "  [[0.41886727 0.15917641]]]]\n",
      "[[[[-0.01461547 -0.00681058]]\n",
      "\n",
      "  [[-0.02129233 -0.01353966]]\n",
      "\n",
      "  [[-0.03897679 -0.06823244]]]\n",
      "\n",
      "\n",
      " [[[-0.05446176 -0.06859957]]\n",
      "\n",
      "  [[-0.05667553 -0.04375157]]\n",
      "\n",
      "  [[-0.04696213 -0.00164538]]]]\n",
      "kd 3  kr 3\n",
      "-2 -5 3 3\n",
      "[[[[0.87594111 0.54180094]]\n",
      "\n",
      "  [[0.50938715 0.6180765 ]]\n",
      "\n",
      "  [[0.41886727 0.15917641]]]]\n",
      "[[[[-0.0335419  -0.01349704]]\n",
      "\n",
      "  [[-0.01461547 -0.00681058]]\n",
      "\n",
      "  [[-0.02129233 -0.01353966]]]\n",
      "\n",
      "\n",
      " [[[-0.05739264 -0.03056941]]\n",
      "\n",
      "  [[-0.05446176 -0.06859957]]\n",
      "\n",
      "  [[-0.05667553 -0.04375157]]]]\n",
      "kd 4  kr 4\n",
      "-3 -6 4 4\n",
      "[[[[0.87594111 0.54180094]]\n",
      "\n",
      "  [[0.50938715 0.6180765 ]]\n",
      "\n",
      "  [[0.41886727 0.15917641]]]]\n",
      "[[[[-0.02043405 -0.01413212]]\n",
      "\n",
      "  [[-0.0335419  -0.01349704]]\n",
      "\n",
      "  [[-0.01461547 -0.00681058]]]\n",
      "\n",
      "\n",
      " [[[-0.04946911 -0.01897264]]\n",
      "\n",
      "  [[-0.05739264 -0.03056941]]\n",
      "\n",
      "  [[-0.05446176 -0.06859957]]]]\n",
      "kd 5  kr 5\n",
      "2\n",
      "-3 0 5 5\n",
      "[[[[0.87594111 0.54180094]]\n",
      "\n",
      "  [[0.50938715 0.6180765 ]]\n",
      "\n",
      "  [[0.41886727 0.15917641]]]]\n",
      "[[[[-0.02043405 -0.01413212]]\n",
      "\n",
      "  [[-0.0335419  -0.01349704]]\n",
      "\n",
      "  [[-0.01461547 -0.00681058]]]\n",
      "\n",
      "\n",
      " [[[-0.04946911 -0.01897264]]\n",
      "\n",
      "  [[-0.05739264 -0.03056941]]\n",
      "\n",
      "  [[-0.05446176 -0.06859957]]]]\n",
      "kd 6  kr 6\n",
      "2\n",
      "-4 0 6 6\n",
      "[[[[0.50938715 0.6180765 ]]\n",
      "\n",
      "  [[0.41886727 0.15917641]]]]\n",
      "[[[[-0.02043405 -0.01413212]]\n",
      "\n",
      "  [[-0.0335419  -0.01349704]]]\n",
      "\n",
      "\n",
      " [[[-0.04946911 -0.01897264]]\n",
      "\n",
      "  [[-0.05739264 -0.03056941]]]]\n",
      "kd 7  kr 7\n",
      "2\n",
      "-5 0 7 7\n",
      "[[[[0.41886727 0.15917641]]]]\n",
      "[[[[-0.02043405 -0.01413212]]]\n",
      "\n",
      "\n",
      " [[[-0.04946911 -0.01897264]]]]\n"
     ]
    },
    {
     "data": {
      "text/plain": [
       "((2, 8, 1), (2, 8, 1))"
      ]
     },
     "execution_count": 152,
     "metadata": {},
     "output_type": "execute_result"
    }
   ],
   "source": [
    "stride = 1\n",
    "m1 = Conv1D(k_size, chan_in, chan_out, stride=stride)\n",
    "delta = m1.forward(np_input)\n",
    "print(delta.shape)\n",
    "d_out = length\n",
    "\n",
    "res = np.zeros((batch, length, chan_in))\n",
    "\n",
    "delta\n",
    "\n",
    "\n",
    "for kd, kr in enumerate(list(range(0, d_out, stride))):\n",
    "    print(\"kd\", kd, \" kr\", kr)\n",
    "    t1, t2 = 0, k_size\n",
    "    d1 = -kd - 2 + k_size\n",
    "    d2 = -kd - 2\n",
    "\n",
    "    if kd == 0:\n",
    "        t1, t2 = 0, kd + 1\n",
    "        d1, d2 = None, -1\n",
    "\n",
    "    elif kd < k_size - 1:\n",
    "        print(\"1\")\n",
    "        t1, t2 = 0, kd + 1\n",
    "        d1, d2 = -1, -kd - 2\n",
    "\n",
    "    elif kd > d_out - (k_size + 1):\n",
    "        print(\"2\")\n",
    "        t1, t2 = k_size - d_out + kd, k_size\n",
    "        d1, d2 = -kd + 2, 0\n",
    "\n",
    "    print(d1, d2, kr, kd)\n",
    "    print(np.flip(params, axis=1)[np.newaxis, t1:t2, :, :])\n",
    "    print(delta[:, d2:d1, np.newaxis, :])\n",
    "\n",
    "    res[:, kr, :] = np.sum(\n",
    "        np.flip(params, axis=1)[np.newaxis, t1:t2, :, :]\n",
    "        * delta[:, d2:d1, np.newaxis, :],\n",
    "        axis=(1, 3),\n",
    "    )\n",
    "\n",
    "res.shape, np_input.shape\n"
   ]
  }
 ],
 "metadata": {
  "interpreter": {
   "hash": "5a75615412e03e428e9a4c18cf4b9987160155d6a7443ebff4cfd9f3aaed23f2"
  },
  "kernelspec": {
   "display_name": "Python 3.9.9 64-bit",
   "language": "python",
   "name": "python3"
  },
  "language_info": {
   "codemirror_mode": {
    "name": "ipython",
    "version": 3
   },
   "file_extension": ".py",
   "mimetype": "text/x-python",
   "name": "python",
   "nbconvert_exporter": "python",
   "pygments_lexer": "ipython3",
   "version": "3.9.9"
  },
  "orig_nbformat": 4
 },
 "nbformat": 4,
 "nbformat_minor": 2
}
