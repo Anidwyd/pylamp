{
 "cells": [
  {
   "cell_type": "code",
   "execution_count": 8,
   "metadata": {},
   "outputs": [],
   "source": [
    "import numpy as np\n",
    "from importlib import reload"
   ]
  },
  {
   "cell_type": "code",
   "execution_count": 2,
   "metadata": {},
   "outputs": [],
   "source": [
    "batch_size = 4\n",
    "d = 3"
   ]
  },
  {
   "cell_type": "markdown",
   "metadata": {},
   "source": [
    "## MSE Loss"
   ]
  },
  {
   "cell_type": "code",
   "execution_count": 1,
   "metadata": {},
   "outputs": [
    {
     "ename": "NameError",
     "evalue": "name 'np' is not defined",
     "output_type": "error",
     "traceback": [
      "\u001b[1;31m---------------------------------------------------------------------------\u001b[0m",
      "\u001b[1;31mNameError\u001b[0m                                 Traceback (most recent call last)",
      "\u001b[1;32m<ipython-input-1-20fc4c276148>\u001b[0m in \u001b[0;36m<module>\u001b[1;34m\u001b[0m\n\u001b[1;32m----> 1\u001b[1;33m \u001b[0my\u001b[0m \u001b[1;33m=\u001b[0m \u001b[0mnp\u001b[0m\u001b[1;33m.\u001b[0m\u001b[0mrandom\u001b[0m\u001b[1;33m.\u001b[0m\u001b[0mrandint\u001b[0m\u001b[1;33m(\u001b[0m\u001b[1;36m2\u001b[0m\u001b[1;33m,\u001b[0m \u001b[0msize\u001b[0m\u001b[1;33m=\u001b[0m\u001b[1;33m(\u001b[0m\u001b[0mbatch_size\u001b[0m\u001b[1;33m,\u001b[0m \u001b[0md\u001b[0m\u001b[1;33m)\u001b[0m\u001b[1;33m)\u001b[0m\u001b[1;33m\u001b[0m\u001b[1;33m\u001b[0m\u001b[0m\n\u001b[0m\u001b[0;32m      2\u001b[0m \u001b[0myhat\u001b[0m \u001b[1;33m=\u001b[0m \u001b[0mnp\u001b[0m\u001b[1;33m.\u001b[0m\u001b[0mrandom\u001b[0m\u001b[1;33m.\u001b[0m\u001b[0mrandint\u001b[0m\u001b[1;33m(\u001b[0m\u001b[1;36m2\u001b[0m\u001b[1;33m,\u001b[0m \u001b[0msize\u001b[0m\u001b[1;33m=\u001b[0m\u001b[1;33m(\u001b[0m\u001b[0mbatch_size\u001b[0m\u001b[1;33m,\u001b[0m \u001b[0md\u001b[0m\u001b[1;33m)\u001b[0m\u001b[1;33m)\u001b[0m\u001b[1;33m\u001b[0m\u001b[1;33m\u001b[0m\u001b[0m\n\u001b[0;32m      3\u001b[0m \u001b[0my\u001b[0m\u001b[1;33m,\u001b[0m \u001b[0myhat\u001b[0m\u001b[1;33m\u001b[0m\u001b[1;33m\u001b[0m\u001b[0m\n",
      "\u001b[1;31mNameError\u001b[0m: name 'np' is not defined"
     ]
    }
   ],
   "source": [
    "y = np.random.randint(2, size=(batch_size, d))\n",
    "yhat = np.random.randint(2, size=(batch_size, d))\n",
    "y, yhat"
   ]
  },
  {
   "cell_type": "code",
   "execution_count": 4,
   "metadata": {},
   "outputs": [
    {
     "data": {
      "text/plain": [
       "array([0.66666667, 0.66666667, 0.33333333, 0.33333333])"
      ]
     },
     "execution_count": 4,
     "metadata": {},
     "output_type": "execute_result"
    }
   ],
   "source": [
    "np.mean(np.square(y - yhat), axis=1)"
   ]
  },
  {
   "cell_type": "code",
   "execution_count": 5,
   "metadata": {},
   "outputs": [
    {
     "data": {
      "text/plain": [
       "array([2., 2., 1., 1.])"
      ]
     },
     "execution_count": 5,
     "metadata": {},
     "output_type": "execute_result"
    }
   ],
   "source": [
    "np.linalg.norm(y - yhat, axis=1) ** 2"
   ]
  },
  {
   "cell_type": "markdown",
   "metadata": {},
   "source": [
    "## TanH / Sigmoid"
   ]
  },
  {
   "cell_type": "code",
   "execution_count": 2,
   "metadata": {},
   "outputs": [],
   "source": [
    "from pylamp import Linear, Tanh, Sigmoid, MSELoss\n",
    "from pylamp.utils.usps import *"
   ]
  },
  {
   "cell_type": "code",
   "execution_count": 3,
   "metadata": {},
   "outputs": [],
   "source": [
    "uspsdatatrain = \"../data/USPS_train.txt\"\n",
    "uspsdatatest = \"../data/USPS_test.txt\"\n",
    "alltrainx,alltrainy = load_usps(uspsdatatrain)\n",
    "alltestx,alltesty = load_usps(uspsdatatest)\n",
    "neg, pos = 6, 9\n",
    "datax,datay = get_usps([neg,pos],alltrainx,alltrainy)\n",
    "testx,testy = get_usps([neg,pos],alltestx,alltesty)\n",
    "datay = np.where(datay == pos, 1, 0).reshape(-1, 1)\n",
    "testy = np.where(testy == pos, 1, 0).reshape(-1, 1)"
   ]
  },
  {
   "cell_type": "code",
   "execution_count": 4,
   "metadata": {},
   "outputs": [
    {
     "data": {
      "image/png": "[encoded data removed]",
      "text/plain": [
       "<Figure size 432x288 with 1 Axes>"
      ]
     },
     "metadata": {
      "needs_background": "light"
     },
     "output_type": "display_data"
    }
   ],
   "source": [
    "show_usps(datax[0])"
   ]
  },
  {
   "cell_type": "code",
   "execution_count": 4,
   "metadata": {},
   "outputs": [],
   "source": [
    "batch_size, input_size = datax.shape\n",
    "hidden_size = 128"
   ]
  },
  {
   "cell_type": "code",
   "execution_count": 5,
   "metadata": {},
   "outputs": [],
   "source": [
    "model = [Linear(input_size, hidden_size), Tanh(), Linear(hidden_size, 1), Sigmoid()]\n",
    "mse = MSELoss()"
   ]
  },
  {
   "cell_type": "code",
   "execution_count": 14,
   "metadata": {},
   "outputs": [
    {
     "data": {
      "text/plain": [
       "array([[0.19476428],\n",
       "       [0.99979567],\n",
       "       [0.99963771],\n",
       "       ...,\n",
       "       [0.97727863],\n",
       "       [0.82602441],\n",
       "       [0.31501407]])"
      ]
     },
     "execution_count": 14,
     "metadata": {},
     "output_type": "execute_result"
    }
   ],
   "source": [
    "input = datax\n",
    "inputs = []\n",
    "for module in model:\n",
    "    input = module.forward(input)\n",
    "    inputs.append(input)\n",
    "\n",
    "input"
   ]
  },
  {
   "cell_type": "code",
   "execution_count": 15,
   "metadata": {},
   "outputs": [
    {
     "data": {
      "text/plain": [
       "array([[3.79331233e-02],\n",
       "       [9.99591380e-01],\n",
       "       [9.99275559e-01],\n",
       "       ...,\n",
       "       [5.16260876e-04],\n",
       "       [3.02675060e-02],\n",
       "       [4.69205718e-01]])"
      ]
     },
     "execution_count": 15,
     "metadata": {},
     "output_type": "execute_result"
    }
   ],
   "source": [
    "loss = mse.forward(datay, input)\n",
    "loss"
   ]
  },
  {
   "cell_type": "code",
   "execution_count": 19,
   "metadata": {},
   "outputs": [
    {
     "data": {
      "text/plain": [
       "array([[ 9.26593690e-06,  1.89415195e-04,  2.45515955e-05, ...,\n",
       "         1.55835319e-03,  3.71910504e-10, -4.69463256e-12],\n",
       "       [ 8.81132614e-13,  6.87947549e-09,  5.16840587e-05, ...,\n",
       "         1.26769622e-04,  2.25257691e-13, -4.67581431e-10],\n",
       "       [ 3.69296009e-05,  1.75519839e-09,  3.56794617e-12, ...,\n",
       "         7.44343787e-05,  1.54818207e-05, -2.69978544e-04],\n",
       "       ...,\n",
       "       [-4.40131531e-15, -7.57982669e-04, -5.40070459e-12, ...,\n",
       "        -1.47764999e-05, -2.30190245e-08,  1.97445922e-03],\n",
       "       [-1.70395043e-07, -6.93239507e-08, -9.08908641e-09, ...,\n",
       "        -7.67926886e-09, -2.92620528e-05,  7.57709683e-05],\n",
       "       [-9.78556603e-07, -2.07451936e-02, -3.82174313e-02, ...,\n",
       "        -4.96626211e-02, -3.29475050e-02,  5.89214579e-11]])"
      ]
     },
     "execution_count": 19,
     "metadata": {},
     "output_type": "execute_result"
    }
   ],
   "source": [
    "delta = mse.backward(datay, loss)\n",
    "deltas = []\n",
    "\n",
    "for idx in range(len(model)-1, 0, -1):\n",
    "    delta = model[idx].backward_delta(inputs[idx-1], delta)\n",
    "    deltas.append(delta)\n",
    "\n",
    "delta"
   ]
  }
 ],
 "metadata": {
  "interpreter": {
   "hash": "89e649af5cc535be01307bbf28f6d989ed34956b91dbd298a04e0be1da293714"
  },
  "kernelspec": {
   "display_name": "Python 3.9.9 64-bit",
   "language": "python",
   "name": "python3"
  },
  "language_info": {
   "codemirror_mode": {
    "name": "ipython",
    "version": 3
   },
   "file_extension": ".py",
   "mimetype": "text/x-python",
   "name": "python",
   "nbconvert_exporter": "python",
   "pygments_lexer": "ipython3",
   "version": "3.9.9"
  },
  "orig_nbformat": 4
 },
 "nbformat": 4,
 "nbformat_minor": 2
}
