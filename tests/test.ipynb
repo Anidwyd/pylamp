{
 "cells": [
  {
   "cell_type": "code",
   "execution_count": 2,
   "metadata": {},
   "outputs": [],
   "source": [
    "import numpy as np\n",
    "\n",
    "from lamp import *\n",
    "from lamp.utils.usps import *"
   ]
  },
  {
   "cell_type": "code",
   "execution_count": 9,
   "metadata": {},
   "outputs": [],
   "source": [
    "datax = np.array([\n",
    "    [0, 1, 0, 0],\n",
    "    [0, 0, 1, 0],\n",
    "    [1, 0, 0, 0]\n",
    "])\n",
    "datay = np.array([0, 1, 3]).reshape(-1, 1)\n",
    "yhat = np.array([0, 1, 0]).reshape(-1, 1)"
   ]
  },
  {
   "cell_type": "code",
   "execution_count": 5,
   "metadata": {},
   "outputs": [],
   "source": [
    "linear = Linear(8, 4)"
   ]
  },
  {
   "cell_type": "code",
   "execution_count": 6,
   "metadata": {},
   "outputs": [
    {
     "name": "stdout",
     "output_type": "stream",
     "text": [
      "[[-0.9943498   0.42694027  0.73562096  0.74386915]\n",
      " [ 0.97997391  0.93781426 -0.74071407  0.46017222]\n",
      " [-0.50133464  0.08294563  0.6792956   0.17137832]\n",
      " [ 0.66919269  0.05195024  0.56939877  0.21128158]\n",
      " [ 0.12486533 -0.39019738  0.31366972 -0.87480364]\n",
      " [-0.90999609  0.85201162 -0.88305539  0.25875809]\n",
      " [ 0.86865677  0.81514557 -0.28407609 -0.8611146 ]\n",
      " [-0.78974533 -0.93973058 -0.25972511 -0.75280341]]\n"
     ]
    }
   ],
   "source": [
    "print(linear._parameters)"
   ]
  },
  {
   "cell_type": "code",
   "execution_count": null,
   "metadata": {},
   "outputs": [],
   "source": []
  }
 ],
 "metadata": {
  "interpreter": {
   "hash": "89e649af5cc535be01307bbf28f6d989ed34956b91dbd298a04e0be1da293714"
  },
  "kernelspec": {
   "display_name": "Python 3.9.9 64-bit",
   "language": "python",
   "name": "python3"
  },
  "language_info": {
   "codemirror_mode": {
    "name": "ipython",
    "version": 3
   },
   "file_extension": ".py",
   "mimetype": "text/x-python",
   "name": "python",
   "nbconvert_exporter": "python",
   "pygments_lexer": "ipython3",
   "version": "3.9.9"
  },
  "orig_nbformat": 4
 },
 "nbformat": 4,
 "nbformat_minor": 2
}
