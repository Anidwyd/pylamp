{
 "cells": [
  {
   "cell_type": "code",
   "execution_count": 1,
   "metadata": {},
   "outputs": [],
   "source": [
    "import numpy as np\n",
    "\n",
    "from lamp import *\n",
    "from lamp.utils.usps import *"
   ]
  },
  {
   "cell_type": "code",
   "execution_count": 2,
   "metadata": {},
   "outputs": [],
   "source": [
    "datax,datay = load_usps(\"../data/USPS_train.txt\")\n",
    "testx,testy = load_usps(\"../data/USPS_test.txt\")"
   ]
  },
  {
   "cell_type": "markdown",
   "metadata": {},
   "source": [
    "## Non-Linear"
   ]
  },
  {
   "cell_type": "code",
   "execution_count": 3,
   "metadata": {},
   "outputs": [],
   "source": [
    "neg, pos = 6, 9\n",
    "data69x,data69y = get_usps([neg,pos],datax,datay)\n",
    "test69x,test69y = get_usps([neg,pos],testx,testy)\n",
    "data69y = np.where(data69y == pos, 1, 0).reshape(-1, 1)\n",
    "test69y = np.where(test69y == pos, 1, 0).reshape(-1, 1)"
   ]
  },
  {
   "cell_type": "code",
   "execution_count": 10,
   "metadata": {},
   "outputs": [
    {
     "data": {
      "image/png": "[encoded data removed]",
      "text/plain": [
       "<Figure size 432x288 with 1 Axes>"
      ]
     },
     "metadata": {
      "needs_background": "light"
     },
     "output_type": "display_data"
    }
   ],
   "source": [
    "show_usps(data69x[0])"
   ]
  },
  {
   "cell_type": "code",
   "execution_count": 4,
   "metadata": {},
   "outputs": [],
   "source": [
    "batch_size, input_size = data69x.shape\n",
    "hidden_size = 128"
   ]
  },
  {
   "cell_type": "code",
   "execution_count": 5,
   "metadata": {},
   "outputs": [],
   "source": [
    "model = [Linear(input_size, hidden_size), Tanh(), Linear(hidden_size, 1), Sigmoid()]\n",
    "mse = MSELoss()"
   ]
  },
  {
   "cell_type": "code",
   "execution_count": 6,
   "metadata": {},
   "outputs": [
    {
     "data": {
      "text/plain": [
       "array([[0.99972389],\n",
       "       [0.99994071],\n",
       "       [0.99999387],\n",
       "       ...,\n",
       "       [0.99999521],\n",
       "       [0.99999848],\n",
       "       [0.99999946]])"
      ]
     },
     "execution_count": 6,
     "metadata": {},
     "output_type": "execute_result"
    }
   ],
   "source": [
    "input = data69x\n",
    "inputs = []\n",
    "for module in model:\n",
    "    input = module.forward(input)\n",
    "    inputs.append(input)\n",
    "\n",
    "input"
   ]
  },
  {
   "cell_type": "code",
   "execution_count": 7,
   "metadata": {},
   "outputs": [
    {
     "data": {
      "text/plain": [
       "array([[9.99447848e-01],\n",
       "       [9.99881415e-01],\n",
       "       [9.99987731e-01],\n",
       "       ...,\n",
       "       [2.29348430e-11],\n",
       "       [2.30409625e-12],\n",
       "       [2.92839387e-13]])"
      ]
     },
     "execution_count": 7,
     "metadata": {},
     "output_type": "execute_result"
    }
   ],
   "source": [
    "loss = mse.forward(data69y, input)\n",
    "loss"
   ]
  },
  {
   "cell_type": "code",
   "execution_count": 8,
   "metadata": {},
   "outputs": [
    {
     "data": {
      "text/plain": [
       "array([[ 2.53917703e-06,  1.12171051e-15, -4.78386205e-07, ...,\n",
       "        -4.01849411e-14, -2.06214993e-09, -8.37071316e-05],\n",
       "       [ 8.09082839e-07,  4.75584104e-11, -1.91907762e-08, ...,\n",
       "        -1.54511445e-14, -5.52794139e-10, -1.98066987e-05],\n",
       "       [ 1.59323189e-08,  5.91440201e-16, -3.97756683e-14, ...,\n",
       "        -5.15568717e-17, -9.42878945e-15, -4.01396151e-06],\n",
       "       ...,\n",
       "       [-2.17650650e-13, -8.17169307e-18,  6.89102505e-09, ...,\n",
       "         7.57951734e-19,  5.79156543e-12,  4.72402256e-06],\n",
       "       [-4.76279049e-07, -4.09842841e-14,  8.30864137e-09, ...,\n",
       "         1.32229998e-13,  4.16749665e-13,  6.44815075e-09],\n",
       "       [-2.78868794e-11, -1.90031557e-20,  1.33617200e-09, ...,\n",
       "         5.14547578e-17,  1.52715319e-22,  1.40576060e-07]])"
      ]
     },
     "execution_count": 8,
     "metadata": {},
     "output_type": "execute_result"
    }
   ],
   "source": [
    "delta = mse.backward(data69y, loss)\n",
    "deltas = []\n",
    "\n",
    "for idx in range(len(model)-1, 0, -1):\n",
    "    delta = model[idx].backward_delta(inputs[idx-1], delta)\n",
    "    deltas.append(delta)\n",
    "\n",
    "delta"
   ]
  },
  {
   "cell_type": "code",
   "execution_count": 9,
   "metadata": {},
   "outputs": [],
   "source": [
    "for module in model:\n",
    "    module.update_parameters()\n",
    "    module.zero_grad()"
   ]
  },
  {
   "cell_type": "markdown",
   "metadata": {},
   "source": [
    "## Multi-Class"
   ]
  },
  {
   "cell_type": "code",
   "execution_count": 11,
   "metadata": {},
   "outputs": [],
   "source": [
    "batch_size, input_size = datax.shape\n",
    "output_size = 10\n",
    "hidden_size = 128"
   ]
  },
  {
   "cell_type": "code",
   "execution_count": 5,
   "metadata": {},
   "outputs": [],
   "source": [
    "net = Sequential(\n",
    "    Linear(input_size, hidden_size), Tanh(), Linear(hidden_size, output_size), Sigmoid()\n",
    ")\n",
    "loss = CELoss()\n",
    "optimizer = Optimizer(net, loss)\n"
   ]
  },
  {
   "cell_type": "code",
   "execution_count": 6,
   "metadata": {},
   "outputs": [
    {
     "data": {
      "text/plain": [
       "array([[2.97244940e-02],\n",
       "       [6.80867197e-02],\n",
       "       [9.98363255e-01],\n",
       "       ...,\n",
       "       [2.61517779e-03],\n",
       "       [5.59328924e-04],\n",
       "       [8.87287054e-10]])"
      ]
     },
     "execution_count": 6,
     "metadata": {},
     "output_type": "execute_result"
    }
   ],
   "source": [
    "yhat, loss = optimizer.step(data69x, data69y)\n",
    "yhat"
   ]
  }
 ],
 "metadata": {
  "interpreter": {
   "hash": "89e649af5cc535be01307bbf28f6d989ed34956b91dbd298a04e0be1da293714"
  },
  "kernelspec": {
   "display_name": "Python 3.9.9 64-bit",
   "language": "python",
   "name": "python3"
  },
  "language_info": {
   "codemirror_mode": {
    "name": "ipython",
    "version": 3
   },
   "file_extension": ".py",
   "mimetype": "text/x-python",
   "name": "python",
   "nbconvert_exporter": "python",
   "pygments_lexer": "ipython3",
   "version": "3.9.12"
  },
  "orig_nbformat": 4
 },
 "nbformat": 4,
 "nbformat_minor": 2
}
