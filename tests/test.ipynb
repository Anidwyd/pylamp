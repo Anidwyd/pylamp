{
 "cells": [
  {
   "cell_type": "code",
   "execution_count": 1,
   "metadata": {},
   "outputs": [],
   "source": [
    "import numpy as np\n",
    "import torch\n",
    "import torch.nn as nn\n",
    "\n",
    "from lamp import *"
   ]
  },
  {
   "cell_type": "code",
   "execution_count": 2,
   "metadata": {},
   "outputs": [],
   "source": [
    "datax = [\n",
    "    [[0.1517, 0.5443, 0.1664, 0.2968, 0.1047, 0.2303, 0.7809, 0.8742]],\n",
    "    [[0.6482, 0.8415, 0.3437, 0.5621, 0.8318, 0.5978, 0.2179, 0.5826]],\n",
    "    # [[0.0959, 0.5683, 0.8281, 0.2220, 0.7972, 0.3602, 0.9269, 0.3220]],\n",
    "    # [[0.2017, 0.4027, 0.9019, 0.3093, 0.2855, 0.0226, 0.3115, 0.5141]],\n",
    "]\n",
    "\n",
    "# data shape\n",
    "batch, chan_in, length = np.array(datax).shape\n",
    "\n",
    "# conv shape\n",
    "k_size = 3\n",
    "chan_out = 2\n",
    "\n",
    "params = np.random.rand(k_size, chan_in, chan_out)\n",
    "np_input = np.array(datax).reshape(batch, length, chan_in)\n",
    "th_input = torch.Tensor(datax)"
   ]
  },
  {
   "cell_type": "code",
   "execution_count": 3,
   "metadata": {},
   "outputs": [
    {
     "name": "stdout",
     "output_type": "stream",
     "text": [
      "(2, 6, 2)\n"
     ]
    },
    {
     "data": {
      "text/plain": [
       "array([[[-0.004 , -0.0384, -0.0396, -0.043 , -0.0081, -0.0276],\n",
       "        [-0.0226, -0.0208, -0.0177,  0.0167, -0.0185, -0.0235]],\n",
       "\n",
       "       [[-0.0358, -0.0914, -0.0616, -0.0665, -0.0291, -0.0222],\n",
       "        [-0.0349, -0.0701, -0.0501, -0.099 , -0.0476, -0.0362]]])"
      ]
     },
     "execution_count": 3,
     "metadata": {},
     "output_type": "execute_result"
    }
   ],
   "source": [
    "conv = Conv1D(k_size, chan_in, chan_out)\n",
    "output = conv.forward(np_input)\n",
    "print(output.shape)\n",
    "np.round_(output.reshape(batch, chan_out, -1), decimals=4)"
   ]
  },
  {
   "cell_type": "code",
   "execution_count": null,
   "metadata": {},
   "outputs": [],
   "source": []
  },
  {
   "cell_type": "code",
   "execution_count": 4,
   "metadata": {},
   "outputs": [
    {
     "data": {
      "text/plain": [
       "torch.Size([2, 2, 6])"
      ]
     },
     "execution_count": 4,
     "metadata": {},
     "output_type": "execute_result"
    }
   ],
   "source": [
    "conv_ = nn.Conv1d(chan_in, chan_out, k_size)\n",
    "output = conv_(th_input)\n",
    "output.shape"
   ]
  },
  {
   "cell_type": "code",
   "execution_count": 19,
   "metadata": {},
   "outputs": [
    {
     "name": "stdout",
     "output_type": "stream",
     "text": [
      "tupl 1\n",
      "[1]\n",
      "[1]\n",
      "tupl 0\n",
      "[0]\n",
      "[1, 0]\n",
      "tupl 1\n",
      "[1]\n",
      "[1, 0, 1]\n",
      "tupl 0\n",
      "[0]\n",
      "[1, 0, 1, 0]\n",
      "tupl 2\n",
      "[0, 2]\n",
      "[1, 0, 1, 0, 0, 2]\n",
      "tupl 2\n",
      "[0, 2]\n",
      "[1, 0, 1, 0, 0, 2, 0, 2]\n",
      "[1 0 1 0 0 2 0 2]\n"
     ]
    },
    {
     "data": {
      "text/plain": [
       "array([[[0.5443, 0.1517, 0.5443, 0.1517, 0.1664, 0.1664],\n",
       "        [0.    , 0.    , 0.    , 0.    , 0.    , 0.    ],\n",
       "        [0.5443, 0.1517, 0.5443, 0.1517, 0.1664, 0.1664],\n",
       "        [0.    , 0.    , 0.    , 0.    , 0.    , 0.    ],\n",
       "        [0.    , 0.    , 0.    , 0.    , 0.    , 0.    ],\n",
       "        [1.0886, 0.3034, 1.0886, 0.3034, 0.3328, 0.3328],\n",
       "        [0.    , 0.    , 0.    , 0.    , 0.    , 0.    ],\n",
       "        [1.0886, 0.3034, 1.0886, 0.3034, 0.3328, 0.3328]],\n",
       "\n",
       "       [[0.8415, 0.6482, 0.8415, 0.6482, 0.3437, 0.3437],\n",
       "        [0.    , 0.    , 0.    , 0.    , 0.    , 0.    ],\n",
       "        [0.8415, 0.6482, 0.8415, 0.6482, 0.3437, 0.3437],\n",
       "        [0.    , 0.    , 0.    , 0.    , 0.    , 0.    ],\n",
       "        [0.    , 0.    , 0.    , 0.    , 0.    , 0.    ],\n",
       "        [1.683 , 1.2964, 1.683 , 1.2964, 0.6874, 0.6874],\n",
       "        [0.    , 0.    , 0.    , 0.    , 0.    , 0.    ],\n",
       "        [1.683 , 1.2964, 1.683 , 1.2964, 0.6874, 0.6874]]])"
      ]
     },
     "execution_count": 19,
     "metadata": {},
     "output_type": "execute_result"
    }
   ],
   "source": [
    "maxp = MaxPool1D(k_size, stride=1)\n",
    "output = maxp.forward(np_input)\n",
    "t = output.reshape(batch, chan_in, -1)\n",
    "print(maxp.indx)\n",
    "\n",
    "maxp.backward_delta(np_input, t)\n"
   ]
  },
  {
   "cell_type": "code",
   "execution_count": 6,
   "metadata": {},
   "outputs": [
    {
     "data": {
      "text/plain": [
       "tensor([[[0.5443, 0.5443, 0.2968, 0.2968, 0.7809, 0.8742]],\n",
       "\n",
       "        [[0.8415, 0.8415, 0.8318, 0.8318, 0.8318, 0.5978]]])"
      ]
     },
     "execution_count": 6,
     "metadata": {},
     "output_type": "execute_result"
    }
   ],
   "source": [
    "maxp_ = nn.MaxPool1d(k_size, stride=1)\n",
    "output = maxp_(th_input)\n",
    "output"
   ]
  },
  {
   "cell_type": "code",
   "execution_count": 7,
   "metadata": {},
   "outputs": [
    {
     "data": {
      "text/plain": [
       "array([[[0.5443, 0.2968]],\n",
       "\n",
       "       [[0.8415, 0.8318]]])"
      ]
     },
     "execution_count": 7,
     "metadata": {},
     "output_type": "execute_result"
    }
   ],
   "source": [
    "stride = 3\n",
    "d_out = (length - k_size) // stride + 1\n",
    "res = np.zeros((batch, d_out, chan_in))\n",
    "\n",
    "for k in range(d_out):\n",
    "    t1, t2 = stride * k, 2 * (k_size // 2) + k * stride + 1\n",
    "    res[:, k, :] = np.amax(np_input[:, t1:t2, :], axis=1)\n",
    "\n",
    "res.reshape(batch, chan_in, -1)"
   ]
  },
  {
   "cell_type": "code",
   "execution_count": 8,
   "metadata": {},
   "outputs": [
    {
     "name": "stdout",
     "output_type": "stream",
     "text": [
      "[[[0.1517]\n",
      "  [0.5443]\n",
      "  [0.1664]\n",
      "  [0.2968]\n",
      "  [0.1047]\n",
      "  [0.2303]\n",
      "  [0.7809]\n",
      "  [0.8742]]\n",
      "\n",
      " [[0.6482]\n",
      "  [0.8415]\n",
      "  [0.3437]\n",
      "  [0.5621]\n",
      "  [0.8318]\n",
      "  [0.5978]\n",
      "  [0.2179]\n",
      "  [0.5826]]]\n",
      "[]\n",
      "[]\n"
     ]
    }
   ],
   "source": [
    "res = np.zeros((batch, d_out, chan_in))\n",
    "print(np_input)\n",
    "\n",
    "for k in range(d_out):\n",
    "    t1, t2 = stride * k, 2 * (k_size // 2) + k * stride + 1\n",
    "    amax = np.amax(np_input[:, t1:t2, :], axis=1).flatten()\n",
    "    # print(amax)\n",
    "    # print(np.where(np_input == amax, 1, 0))\n",
    "    idx = np.where(np.all(np_input == amax, axis=-1))[0]\n",
    "    print(idx)\n",
    "    # res[:, k, :] = np_input[:, idx:]\n",
    "\n",
    "# res.reshape(batch, chan_in, -1)"
   ]
  },
  {
   "cell_type": "code",
   "execution_count": 9,
   "metadata": {},
   "outputs": [
    {
     "data": {
      "text/plain": [
       "(torch.Size([2, 6]),\n",
       " tensor([[0.5443, 0.5443, 0.2968, 0.2968, 0.7809, 0.8742],\n",
       "         [0.8415, 0.8415, 0.8318, 0.8318, 0.8318, 0.5978]]))"
      ]
     },
     "execution_count": 9,
     "metadata": {},
     "output_type": "execute_result"
    }
   ],
   "source": [
    "input = maxp_(th_input)\n",
    "\n",
    "m6 = nn.Flatten()\n",
    "output = m6(input)\n",
    "output.size(), output"
   ]
  },
  {
   "cell_type": "code",
   "execution_count": 10,
   "metadata": {},
   "outputs": [
    {
     "name": "stdout",
     "output_type": "stream",
     "text": [
      "tupl 1\n",
      "[1]\n",
      "[1]\n",
      "tupl 0\n",
      "[0]\n",
      "[1, 0]\n",
      "tupl 1\n",
      "[1]\n",
      "[1, 0, 1]\n",
      "tupl 0\n",
      "[0]\n",
      "[1, 0, 1, 0]\n",
      "tupl 2\n",
      "[0, 2]\n",
      "[1, 0, 1, 0, 0, 2]\n",
      "tupl 2\n",
      "[0, 2]\n",
      "[1, 0, 1, 0, 0, 2, 0, 2]\n"
     ]
    },
    {
     "data": {
      "text/plain": [
       "((2, 6),\n",
       " array([[0.5443, 0.1517, 0.5443, 0.1517, 0.1664, 0.1664],\n",
       "        [0.8415, 0.6482, 0.8415, 0.6482, 0.3437, 0.3437]]))"
      ]
     },
     "execution_count": 10,
     "metadata": {},
     "output_type": "execute_result"
    }
   ],
   "source": [
    "input = maxp.forward(np_input)\n",
    "\n",
    "m5 = Flatten()\n",
    "output = m5.forward(input)\n",
    "output.shape\n",
    "\n",
    "\n"
   ]
  },
  {
   "cell_type": "code",
   "execution_count": 11,
   "metadata": {},
   "outputs": [
    {
     "name": "stdout",
     "output_type": "stream",
     "text": [
      "[[[1. 1.]\n",
      "  [1. 1.]\n",
      "  [1. 1.]]\n",
      "\n",
      " [[1. 1.]\n",
      "  [1. 1.]\n",
      "  [1. 1.]]\n",
      "\n",
      " [[1. 1.]\n",
      "  [1. 1.]\n",
      "  [1. 1.]]\n",
      "\n",
      " [[1. 1.]\n",
      "  [1. 1.]\n",
      "  [1. 1.]]]\n",
      "[[[0. 0.]\n",
      "  [1. 1.]\n",
      "  [1. 1.]\n",
      "  [1. 1.]]\n",
      "\n",
      " [[0. 0.]\n",
      "  [1. 1.]\n",
      "  [1. 1.]\n",
      "  [1. 1.]]\n",
      "\n",
      " [[0. 0.]\n",
      "  [1. 1.]\n",
      "  [1. 1.]\n",
      "  [1. 1.]]\n",
      "\n",
      " [[0. 0.]\n",
      "  [1. 1.]\n",
      "  [1. 1.]\n",
      "  [1. 1.]]]\n",
      "(4, 4, 2)\n",
      "(4, 8, 2)\n"
     ]
    }
   ],
   "source": [
    "a = np.ones((4, 3, 2))\n",
    "print(a)\n",
    "a = np.insert(a,[0],0 ,axis= 1)\n",
    "\n",
    "print(a)\n",
    "print(a.shape)\n",
    "\n",
    "for i in range(0, 8):\n",
    "    if i%2 != 0 :   \n",
    "        a = np.insert(a,i,0 ,axis= 1)\n",
    "print(a.shape)        \n"
   ]
  },
  {
   "cell_type": "code",
   "execution_count": 12,
   "metadata": {},
   "outputs": [
    {
     "data": {
      "text/plain": [
       "array([0, 1, 2, 3, 4, 5, 6, 7, 8, 9])"
      ]
     },
     "execution_count": 12,
     "metadata": {},
     "output_type": "execute_result"
    }
   ],
   "source": [
    "a = np.arange(10)\n",
    "\n",
    "a[:]"
   ]
  },
  {
   "cell_type": "code",
   "execution_count": 13,
   "metadata": {},
   "outputs": [
    {
     "name": "stdout",
     "output_type": "stream",
     "text": [
      "3\n",
      "0\n",
      "0 3\n",
      "[[[[0.1517]]\n",
      "\n",
      "  [[0.5443]]\n",
      "\n",
      "  [[0.1664]]]\n",
      "\n",
      "\n",
      " [[[0.6482]]\n",
      "\n",
      "  [[0.8415]]\n",
      "\n",
      "  [[0.3437]]]]\n",
      "1\n",
      "2 5\n",
      "[[[[0.1664]]\n",
      "\n",
      "  [[0.2968]]\n",
      "\n",
      "  [[0.1047]]]\n",
      "\n",
      "\n",
      " [[[0.3437]]\n",
      "\n",
      "  [[0.5621]]\n",
      "\n",
      "  [[0.8318]]]]\n",
      "2\n",
      "4 7\n",
      "[[[[0.1047]]\n",
      "\n",
      "  [[0.2303]]\n",
      "\n",
      "  [[0.7809]]]\n",
      "\n",
      "\n",
      " [[[0.8318]]\n",
      "\n",
      "  [[0.5978]]\n",
      "\n",
      "  [[0.2179]]]]\n"
     ]
    }
   ],
   "source": [
    "#update gradient conv\n",
    "stride = 2\n",
    "m1 = Conv1D(k_size, chan_in, chan_out, stride=stride)\n",
    "delta = m1.forward(np_input)\n",
    "\n",
    "d_out = (length - k_size) // stride + 1\n",
    "print(d_out)\n",
    "res = np.zeros((k_size, chan_in, chan_out))\n",
    "\n",
    "for k in range(k_size):\n",
    "    print(k)\n",
    "    t1, t2 = k * stride, d_out + k * stride \n",
    "    print(t1, t2)\n",
    "    print(np_input[:, t1:t2, :, np.newaxis])\n",
    "    res[k,: , :] = np.sum(\n",
    "            np_input[:, t1:t2, :, np.newaxis]\n",
    "            * delta[:, :,np.newaxis ,:],\n",
    "            axis=(0,1),\n",
    "        )\n"
   ]
  },
  {
   "cell_type": "code",
   "execution_count": 14,
   "metadata": {},
   "outputs": [
    {
     "name": "stdout",
     "output_type": "stream",
     "text": [
      "(2, 3, 2)\n",
      "(2, 5, 2)\n",
      "kd 0  kr 0\n",
      "None -1 0 0\n",
      "[[[[0.94896853 0.26555139]]]]\n",
      "[[[[ 0.05227267 -0.05545671]]]\n",
      "\n",
      "\n",
      " [[[ 0.03976593  0.0383053 ]]]]\n",
      "kd 1  kr 2\n",
      "1\n",
      "-1 -3 2 1\n",
      "[[[[0.94896853 0.26555139]]\n",
      "\n",
      "  [[0.69401561 0.65266928]]]]\n",
      "[[[[ 0.          0.        ]]\n",
      "\n",
      "  [[ 0.00616713 -0.00112756]]]\n",
      "\n",
      "\n",
      " [[[ 0.          0.        ]]\n",
      "\n",
      "  [[ 0.05741732 -0.04736351]]]]\n",
      "kd 2  kr 4\n",
      "-1 -4 4 2\n",
      "[[[[9.48968532e-01 2.65551394e-01]]\n",
      "\n",
      "  [[6.94015611e-01 6.52669276e-01]]\n",
      "\n",
      "  [[7.69447651e-01 2.21191121e-04]]]]\n",
      "[[[[ 0.00122545 -0.01284474]]\n",
      "\n",
      "  [[ 0.          0.        ]]\n",
      "\n",
      "  [[ 0.00616713 -0.00112756]]]\n",
      "\n",
      "\n",
      " [[[ 0.03029274  0.00788414]]\n",
      "\n",
      "  [[ 0.          0.        ]]\n",
      "\n",
      "  [[ 0.05741732 -0.04736351]]]]\n",
      "kd 3  kr 6\n",
      "-2 -5 6 3\n",
      "[[[[9.48968532e-01 2.65551394e-01]]\n",
      "\n",
      "  [[6.94015611e-01 6.52669276e-01]]\n",
      "\n",
      "  [[7.69447651e-01 2.21191121e-04]]]]\n",
      "[[[[ 0.          0.        ]]\n",
      "\n",
      "  [[ 0.00122545 -0.01284474]]\n",
      "\n",
      "  [[ 0.          0.        ]]]\n",
      "\n",
      "\n",
      " [[[ 0.          0.        ]]\n",
      "\n",
      "  [[ 0.03029274  0.00788414]]\n",
      "\n",
      "  [[ 0.          0.        ]]]]\n"
     ]
    },
    {
     "data": {
      "text/plain": [
       "((2, 8, 1), (2, 8, 1))"
      ]
     },
     "execution_count": 14,
     "metadata": {},
     "output_type": "execute_result"
    }
   ],
   "source": [
    "stride = 2\n",
    "m1 = Conv1D(k_size, chan_in, chan_out, stride=stride)\n",
    "delta = m1.forward(np_input)\n",
    "\n",
    "\n",
    "\n",
    "print(delta.shape)\n",
    "d_out = length\n",
    "\n",
    "res = np.zeros((batch, length, chan_in))\n",
    "\n",
    "if stride>1:\n",
    "    for i in range(0,m1.sizeOut +1):\n",
    "        if i%stride != 1 :\n",
    "            delta = np.insert(delta, i, 0, axis= 1)\n",
    "print(delta.shape)\n",
    "for kd, kr in enumerate(list(range(0, d_out, stride))):\n",
    "    print(\"kd\", kd, \" kr\", kr)\n",
    "    t1, t2 = 0, k_size\n",
    "    d1 = -kd - 2 + k_size\n",
    "    d2 = -kd - 2\n",
    "\n",
    "    if kd == 0:\n",
    "        t1, t2 = 0, kd + 1\n",
    "        d1, d2 = None, -1\n",
    "\n",
    "    elif kd < k_size - 1:\n",
    "        print(\"1\")\n",
    "        t1, t2 = 0, kd + 1\n",
    "        d1, d2 = -1, -kd - 2\n",
    "\n",
    "    elif kd > d_out - (k_size + 1):\n",
    "        print(\"2\")\n",
    "        t1, t2 = k_size - d_out + kd, k_size\n",
    "        d1, d2 = -kd + 2, 0\n",
    "\n",
    "    print(d1, d2, kr, kd)\n",
    "    print(np.flip(params, axis=1)[np.newaxis, t1:t2, :, :])\n",
    "    print(delta[:, d2:d1, np.newaxis, :])\n",
    "\n",
    "    res[:, kr, :] = np.sum(\n",
    "        np.flip(params, axis=1)[np.newaxis, t1:t2, :, :]\n",
    "        * delta[:, d2:d1, np.newaxis, :],\n",
    "        axis=(1, 3),\n",
    "    )\n",
    "\n",
    "res.shape, np_input.shape\n"
   ]
  },
  {
   "cell_type": "code",
   "execution_count": 15,
   "metadata": {},
   "outputs": [
    {
     "name": "stdout",
     "output_type": "stream",
     "text": [
      "[[[  0   1   2   3   4]\n",
      "  [ 10  11  12  13  14]\n",
      "  [ 20  21  22  23  24]\n",
      "  [ 30  31  32  33  34]]\n",
      "\n",
      " [[100 101 102 103 104]\n",
      "  [110 111 112 113 114]\n",
      "  [120 121 122 123 124]\n",
      "  [130 131 132 133 134]]]\n"
     ]
    },
    {
     "data": {
      "text/plain": [
       "array([[  0,  21,  34,  12],\n",
       "       [100, 121, 134, 112]])"
      ]
     },
     "execution_count": 15,
     "metadata": {},
     "output_type": "execute_result"
    }
   ],
   "source": [
    "\n",
    "\n",
    "\n",
    "\n",
    "x, y, z = np.ogrid[:2,:4,:5]\n",
    "M = 100*x + 10*y + z\n",
    "M.shape\n",
    "(2, 4, 5)\n",
    "print(M)\n",
    "inds = [(0, 0), (2, 1), (3, 4), (1, 2)]\n",
    "inds_array = np.moveaxis(np.array(inds), -1, 0); inds_array\n",
    "\n",
    "M[np.index_exp[:] + tuple([1])]  # same as M[:, [0, 2, 3, 1], [0, 1, 4, 2]]\n",
    "\n",
    "M[:, [0, 2, 3, 1], [0, 1, 4, 2]]\n"
   ]
  },
  {
   "cell_type": "code",
   "execution_count": 16,
   "metadata": {},
   "outputs": [
    {
     "data": {
      "text/plain": [
       "[0, 0, 0, 0, 1]"
      ]
     },
     "execution_count": 16,
     "metadata": {},
     "output_type": "execute_result"
    }
   ],
   "source": [
    "p = [1,0,2,5]\n",
    "\n",
    "p += [2]\n",
    "\n",
    "\n",
    "\n",
    "t = [0 ]* 4 + [1]\n",
    "t"
   ]
  }
 ],
 "metadata": {
  "interpreter": {
   "hash": "0f03f176c61851f26f55848771ac40ab32fbe2b2ba9ade887bd40f44338896c9"
  },
  "kernelspec": {
   "display_name": "Python 3.9.0 64-bit",
   "language": "python",
   "name": "python3"
  },
  "language_info": {
   "codemirror_mode": {
    "name": "ipython",
    "version": 3
   },
   "file_extension": ".py",
   "mimetype": "text/x-python",
   "name": "python",
   "nbconvert_exporter": "python",
   "pygments_lexer": "ipython3",
   "version": "3.9.0"
  },
  "orig_nbformat": 4
 },
 "nbformat": 4,
 "nbformat_minor": 2
}
