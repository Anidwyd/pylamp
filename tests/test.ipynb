{
 "cells": [
  {
   "cell_type": "code",
   "execution_count": 1,
   "metadata": {},
   "outputs": [],
   "source": [
    "import numpy as np\n",
    "import torch\n",
    "import torch.nn as nn"
   ]
  },
  {
   "cell_type": "code",
   "execution_count": 7,
   "metadata": {},
   "outputs": [],
   "source": [
    "datax = [\n",
    "    [[0.1517, 0.5443, 0.1664, 0.2968, 0.1047, 0.2303, 0.7809, 0.8742]],\n",
    "    [[0.6482, 0.8415, 0.3437, 0.5621, 0.8318, 0.5978, 0.2179, 0.5826]],\n",
    "    [[0.0959, 0.5683, 0.8281, 0.2220, 0.7972, 0.3602, 0.9269, 0.3220]],\n",
    "    [[0.2017, 0.4027, 0.9019, 0.3093, 0.2855, 0.0226, 0.3115, 0.5141]]\n",
    "]\n",
    "\n",
    "# data shape\n",
    "batch = 4\n",
    "length = 8\n",
    "\n",
    "# conv shape\n",
    "k_size = 3\n",
    "chan_in = 1\n",
    "chan_out = 2\n",
    "stride = 1\n",
    "d_out = (length-k_size) // stride +1\n",
    "\n",
    "params = np.random.rand(k_size, chan_in, chan_out)"
   ]
  },
  {
   "cell_type": "code",
   "execution_count": 9,
   "metadata": {},
   "outputs": [],
   "source": [
    "np_input = np.array(datax).reshape(batch, length, chan_in)\n",
    "th_input = torch.Tensor(datax)"
   ]
  },
  {
   "cell_type": "code",
   "execution_count": 12,
   "metadata": {},
   "outputs": [
    {
     "data": {
      "text/plain": [
       "array([[[-0.051 ,  0.0397, -0.0137,  0.0216, -0.0255,  0.021 ],\n",
       "        [-0.0134,  0.0182, -0.0701,  0.0741, -0.1175,  0.1087]],\n",
       "\n",
       "       [[-0.0689,  0.0597, -0.0356,  0.0466, -0.0919,  0.091 ],\n",
       "        [-0.0893,  0.0818, -0.0327,  0.0323, -0.036 ,  0.0467]],\n",
       "\n",
       "       [[-0.1018,  0.0963, -0.0623,  0.0507, -0.0426,  0.0595],\n",
       "        [-0.0829,  0.0677, -0.0644,  0.0782, -0.0856,  0.0687]],\n",
       "\n",
       "       [[-0.0892,  0.0912, -0.0809,  0.0654, -0.0109,  0.0208],\n",
       "        [-0.0133,  0.0107, -0.0128,  0.0206, -0.0612,  0.0584]]])"
      ]
     },
     "execution_count": 12,
     "metadata": {},
     "output_type": "execute_result"
    }
   ],
   "source": [
    "from lamp.conv import Conv1D\n",
    "\n",
    "c = Conv1D(k_size, chan_in, chan_out)\n",
    "output = c.forward(np_input)\n",
    "np.round_(output.reshape(batch, chan_out, d_out), decimals=4)"
   ]
  },
  {
   "cell_type": "code",
   "execution_count": 24,
   "metadata": {},
   "outputs": [
    {
     "data": {
      "text/plain": [
       "tensor([[[ 0.1080, -0.0381,  0.0944,  0.0303,  0.0173,  0.0123],\n",
       "         [-0.3532, -0.1540, -0.2780, -0.1614, -0.0473, -0.2216]],\n",
       "\n",
       "        [[-0.0224, -0.1370, -0.0273, -0.0339, -0.0712, -0.0856],\n",
       "         [-0.3906, -0.1272, -0.1472, -0.3122, -0.3296, -0.0833]],\n",
       "\n",
       "        [[ 0.0378,  0.0133, -0.1730,  0.0828, -0.1719,  0.0613],\n",
       "         [-0.1609, -0.4263, -0.0093, -0.3863, -0.0229, -0.4414]],\n",
       "\n",
       "        [[-0.0112,  0.0502, -0.1190,  0.0672,  0.0167,  0.0793],\n",
       "         [-0.0712, -0.4341, -0.1968, -0.2932, -0.1058, -0.1635]]],\n",
       "       grad_fn=<SqueezeBackward1>)"
      ]
     },
     "execution_count": 24,
     "metadata": {},
     "output_type": "execute_result"
    }
   ],
   "source": [
    "m = nn.Conv1d(chan_in, chan_out, k_size)\n",
    "output = m(th_input)\n",
    "output"
   ]
  }
 ],
 "metadata": {
  "interpreter": {
   "hash": "5a75615412e03e428e9a4c18cf4b9987160155d6a7443ebff4cfd9f3aaed23f2"
  },
  "kernelspec": {
   "display_name": "Python 3.9.9 64-bit",
   "language": "python",
   "name": "python3"
  },
  "language_info": {
   "codemirror_mode": {
    "name": "ipython",
    "version": 3
   },
   "file_extension": ".py",
   "mimetype": "text/x-python",
   "name": "python",
   "nbconvert_exporter": "python",
   "pygments_lexer": "ipython3",
   "version": "3.9.9"
  },
  "orig_nbformat": 4
 },
 "nbformat": 4,
 "nbformat_minor": 2
}
