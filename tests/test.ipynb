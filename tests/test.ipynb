{
 "cells": [
  {
   "cell_type": "code",
   "execution_count": 1,
   "metadata": {},
   "outputs": [],
   "source": [
    "import numpy as np\n",
    "import torch\n",
    "import torch.nn as nn\n",
    "\n",
    "from lamp import *"
   ]
  },
  {
   "cell_type": "code",
   "execution_count": 2,
   "metadata": {},
   "outputs": [],
   "source": [
    "## CREATING DATASET\n",
    "\n",
    "datax = [\n",
    "    [[0.1517, 0.5443, 0.1664, 0.2968, 0.1047, 0.2303, 0.7809, 0.8742]],\n",
    "    [[0.6482, 0.8415, 0.3437, 0.5621, 0.8318, 0.5978, 0.2179, 0.5826]],\n",
    "    [[0.0959, 0.5683, 0.8281, 0.2220, 0.7972, 0.3602, 0.9269, 0.3220]],\n",
    "    [[0.2017, 0.4027, 0.9019, 0.3093, 0.2855, 0.0226, 0.3115, 0.5141]],\n",
    "]\n",
    "\n",
    "# data shape\n",
    "batch, chan_in, length = np.array(datax).shape\n",
    "\n",
    "# conv shape\n",
    "k_size = 3\n",
    "chan_out = 2\n",
    "\n",
    "params = np.random.rand(k_size, chan_in, chan_out)\n",
    "np_input = np.array(datax).reshape(batch, length, chan_in)\n",
    "th_input = torch.Tensor(datax)"
   ]
  },
  {
   "cell_type": "markdown",
   "metadata": {},
   "source": [
    "## Conv1D"
   ]
  },
  {
   "cell_type": "code",
   "execution_count": 3,
   "metadata": {},
   "outputs": [
    {
     "data": {
      "text/plain": [
       "array([[[ 0.0223, -0.0459,  0.0511, -0.0631,  0.0178, -0.0327],\n",
       "        [ 0.0324, -0.0366,  0.0578, -0.0378,  0.0739, -0.0802]],\n",
       "\n",
       "       [[ 0.0636, -0.1092,  0.0861, -0.1043,  0.0765, -0.0777],\n",
       "        [ 0.0752, -0.1064,  0.0646, -0.1098,  0.0729, -0.0765]],\n",
       "\n",
       "       [[ 0.0622, -0.056 ,  0.0511, -0.0989,  0.1   , -0.1016],\n",
       "        [ 0.0402, -0.0696,  0.1074, -0.1089,  0.0463, -0.0879]],\n",
       "\n",
       "       [[ 0.0721, -0.0581,  0.0477, -0.0901,  0.0715, -0.102 ],\n",
       "        [ 0.0206, -0.043 ,  0.0366, -0.0329,  0.0363, -0.0293]]])"
      ]
     },
     "execution_count": 3,
     "metadata": {},
     "output_type": "execute_result"
    }
   ],
   "source": [
    "## CONV1D FORWARD\n",
    "\n",
    "conv = Conv1D(k_size, chan_in, chan_out)\n",
    "output = conv.forward(np_input)\n",
    "np.round_(output.reshape(batch, chan_out, -1), decimals=4)"
   ]
  },
  {
   "cell_type": "code",
   "execution_count": 4,
   "metadata": {},
   "outputs": [
    {
     "data": {
      "text/plain": [
       "tensor([[[-0.1382, -0.1606, -0.0805, -0.0533,  0.0845, -0.1160],\n",
       "         [-0.3873, -0.5314, -0.4382, -0.5168, -0.5685, -0.4591]],\n",
       "\n",
       "        [[-0.3980, -0.2876, -0.1035, -0.3150, -0.4213, -0.1471],\n",
       "         [-0.3818, -0.5562, -0.5136, -0.4224, -0.4329, -0.5728]],\n",
       "\n",
       "        [[-0.0055, -0.3831, -0.2038, -0.2087, -0.2099, -0.3106],\n",
       "         [-0.4933, -0.3579, -0.6262, -0.3644, -0.6128, -0.3360]],\n",
       "\n",
       "        [[ 0.0146, -0.3226, -0.3508, -0.1497, -0.0095,  0.0460],\n",
       "         [-0.5546, -0.3430, -0.5205, -0.4370, -0.5504, -0.4959]]],\n",
       "       grad_fn=<SqueezeBackward1>)"
      ]
     },
     "execution_count": 4,
     "metadata": {},
     "output_type": "execute_result"
    }
   ],
   "source": [
    "conv_ = nn.Conv1d(chan_in, chan_out, k_size)\n",
    "output = conv_(th_input)\n",
    "output"
   ]
  },
  {
   "cell_type": "markdown",
   "metadata": {},
   "source": [
    "## MaxPool1D"
   ]
  },
  {
   "cell_type": "code",
   "execution_count": 5,
   "metadata": {},
   "outputs": [
    {
     "data": {
      "text/plain": [
       "array([[[0.5443, 0.1517, 0.5443, 0.1517, 0.1664, 0.1664]],\n",
       "\n",
       "       [[0.8415, 0.6482, 0.8415, 0.6482, 0.3437, 0.3437]],\n",
       "\n",
       "       [[0.5683, 0.0959, 0.5683, 0.0959, 0.8281, 0.8281]],\n",
       "\n",
       "       [[0.4027, 0.2017, 0.4027, 0.2017, 0.9019, 0.9019]]])"
      ]
     },
     "execution_count": 5,
     "metadata": {},
     "output_type": "execute_result"
    }
   ],
   "source": [
    "maxp = MaxPool1D(k_size, stride=1)\n",
    "output = maxp.forward(np_input)\n",
    "np.round_(output.reshape(batch, chan_in, -1), decimals=4)\n",
    "# print(maxp.indx)\n",
    "\n",
    "# maxp.backward_delta(np_input, output)\n"
   ]
  },
  {
   "cell_type": "code",
   "execution_count": 25,
   "metadata": {},
   "outputs": [
    {
     "name": "stdout",
     "output_type": "stream",
     "text": [
      "[[1 1 2 2]]\n"
     ]
    },
    {
     "ename": "ValueError",
     "evalue": "cannot select an axis to squeeze out which has size not equal to one",
     "output_type": "error",
     "traceback": [
      "\u001b[1;31m---------------------------------------------------------------------------\u001b[0m",
      "\u001b[1;31mValueError\u001b[0m                                Traceback (most recent call last)",
      "\u001b[1;32mc:\\Users\\Jules Dubreuil\\Documents\\universite\\machine-learning\\pylamp\\tests\\test.ipynb Cell 8'\u001b[0m in \u001b[0;36m<cell line: 7>\u001b[1;34m()\u001b[0m\n\u001b[0;32m     <a href='vscode-notebook-cell:/c%3A/Users/Jules%20Dubreuil/Documents/universite/machine-learning/pylamp/tests/test.ipynb#ch0000022?line=12'>13</a>\u001b[0m     \u001b[39m# renvois pas 1 mais indice a corriger\u001b[39;00m\n\u001b[0;32m     <a href='vscode-notebook-cell:/c%3A/Users/Jules%20Dubreuil/Documents/universite/machine-learning/pylamp/tests/test.ipynb#ch0000022?line=13'>14</a>\u001b[0m     \u001b[39m# listProv = [0] * (tupleA[0][0].item()-1) + tupleA[0].tolist()\u001b[39;00m\n\u001b[0;32m     <a href='vscode-notebook-cell:/c%3A/Users/Jules%20Dubreuil/Documents/universite/machine-learning/pylamp/tests/test.ipynb#ch0000022?line=15'>16</a>\u001b[0m     indx \u001b[39m+\u001b[39m\u001b[39m=\u001b[39m [compte]\n\u001b[1;32m---> <a href='vscode-notebook-cell:/c%3A/Users/Jules%20Dubreuil/Documents/universite/machine-learning/pylamp/tests/test.ipynb#ch0000022?line=16'>17</a>\u001b[0m     res[:, k, :] \u001b[39m=\u001b[39m np_input[:, tupleA, :]\u001b[39m.\u001b[39;49msqueeze(axis\u001b[39m=\u001b[39;49m\u001b[39m1\u001b[39;49m)\n\u001b[0;32m     <a href='vscode-notebook-cell:/c%3A/Users/Jules%20Dubreuil/Documents/universite/machine-learning/pylamp/tests/test.ipynb#ch0000022?line=18'>19</a>\u001b[0m \u001b[39m# np.array(indx)\u001b[39;00m\n\u001b[0;32m     <a href='vscode-notebook-cell:/c%3A/Users/Jules%20Dubreuil/Documents/universite/machine-learning/pylamp/tests/test.ipynb#ch0000022?line=19'>20</a>\u001b[0m np\u001b[39m.\u001b[39mround_(res\u001b[39m.\u001b[39mreshape(batch, chan_in, \u001b[39m-\u001b[39m\u001b[39m1\u001b[39m), decimals\u001b[39m=\u001b[39m\u001b[39m4\u001b[39m)\n",
      "\u001b[1;31mValueError\u001b[0m: cannot select an axis to squeeze out which has size not equal to one"
     ]
    }
   ],
   "source": [
    "stride = 1\n",
    "d_out = (length - k_size) // stride + 1\n",
    "res = np.zeros((batch, d_out, chan_in))\n",
    "\n",
    "indx = []\n",
    "compte = 0\n",
    "for k in range(d_out):\n",
    "    t1, t2 = stride * k, 2 * (k_size // 2) + k * stride + 1\n",
    "    tupleA = np.argmax(np_input[:, t1:t2, :], axis=1)\n",
    "\n",
    "    compte += tupleA[0].item()\n",
    "    # renvois pas 1 mais indice a corriger\n",
    "    # listProv = [0] * (tupleA[0][0].item()-1) + tupleA[0].tolist()\n",
    "\n",
    "    indx += [compte]\n",
    "    res[:, k, :] = np_input[:, tupleA, :].squeeze(axis=1)\n",
    "\n",
    "# np.array(indx)\n",
    "np.round_(res.reshape(batch, chan_in, -1), decimals=4)"
   ]
  },
  {
   "cell_type": "code",
   "execution_count": 6,
   "metadata": {},
   "outputs": [
    {
     "data": {
      "text/plain": [
       "tensor([[[0.5443, 0.5443, 0.2968, 0.2968, 0.7809, 0.8742]],\n",
       "\n",
       "        [[0.8415, 0.8415, 0.8318, 0.8318, 0.8318, 0.5978]],\n",
       "\n",
       "        [[0.8281, 0.8281, 0.8281, 0.7972, 0.9269, 0.9269]],\n",
       "\n",
       "        [[0.9019, 0.9019, 0.9019, 0.3093, 0.3115, 0.5141]]])"
      ]
     },
     "execution_count": 6,
     "metadata": {},
     "output_type": "execute_result"
    }
   ],
   "source": [
    "maxp_ = nn.MaxPool1d(k_size, stride=1)\n",
    "output = maxp_(th_input)\n",
    "output"
   ]
  },
  {
   "cell_type": "code",
   "execution_count": 7,
   "metadata": {},
   "outputs": [
    {
     "data": {
      "text/plain": [
       "array([[[0.5443, 0.2968]],\n",
       "\n",
       "       [[0.8415, 0.8318]],\n",
       "\n",
       "       [[0.8281, 0.7972]],\n",
       "\n",
       "       [[0.9019, 0.3093]]])"
      ]
     },
     "execution_count": 7,
     "metadata": {},
     "output_type": "execute_result"
    }
   ],
   "source": [
    "stride = 3\n",
    "d_out = (length - k_size) // stride + 1\n",
    "res = np.zeros((batch, d_out, chan_in))\n",
    "\n",
    "for k in range(d_out):\n",
    "    t1, t2 = stride * k, 2 * (k_size // 2) + k * stride + 1\n",
    "    res[:, k, :] = np.amax(np_input[:, t1:t2, :], axis=1)\n",
    "\n",
    "res.reshape(batch, chan_in, -1)"
   ]
  },
  {
   "cell_type": "code",
   "execution_count": 8,
   "metadata": {},
   "outputs": [
    {
     "name": "stdout",
     "output_type": "stream",
     "text": [
      "[[[0.1517]\n",
      "  [0.5443]\n",
      "  [0.1664]\n",
      "  [0.2968]\n",
      "  [0.1047]\n",
      "  [0.2303]\n",
      "  [0.7809]\n",
      "  [0.8742]]\n",
      "\n",
      " [[0.6482]\n",
      "  [0.8415]\n",
      "  [0.3437]\n",
      "  [0.5621]\n",
      "  [0.8318]\n",
      "  [0.5978]\n",
      "  [0.2179]\n",
      "  [0.5826]]\n",
      "\n",
      " [[0.0959]\n",
      "  [0.5683]\n",
      "  [0.8281]\n",
      "  [0.222 ]\n",
      "  [0.7972]\n",
      "  [0.3602]\n",
      "  [0.9269]\n",
      "  [0.322 ]]\n",
      "\n",
      " [[0.2017]\n",
      "  [0.4027]\n",
      "  [0.9019]\n",
      "  [0.3093]\n",
      "  [0.2855]\n",
      "  [0.0226]\n",
      "  [0.3115]\n",
      "  [0.5141]]]\n",
      "[]\n",
      "[]\n"
     ]
    }
   ],
   "source": [
    "res = np.zeros((batch, d_out, chan_in))\n",
    "print(np_input)\n",
    "\n",
    "for k in range(d_out):\n",
    "    t1, t2 = stride * k, 2 * (k_size // 2) + k * stride + 1\n",
    "    amax = np.amax(np_input[:, t1:t2, :], axis=1).flatten()\n",
    "    # print(amax)\n",
    "    # print(np.where(np_input == amax, 1, 0))\n",
    "    idx = np.where(np.all(np_input == amax, axis=-1))[0]\n",
    "    print(idx)\n",
    "    # res[:, k, :] = np_input[:, idx:]\n",
    "\n",
    "# res.reshape(batch, chan_in, -1)"
   ]
  },
  {
   "cell_type": "code",
   "execution_count": 9,
   "metadata": {},
   "outputs": [
    {
     "data": {
      "text/plain": [
       "array([[0.5443, 0.1517, 0.5443, 0.1517, 0.1664, 0.1664],\n",
       "       [0.8415, 0.6482, 0.8415, 0.6482, 0.3437, 0.3437],\n",
       "       [0.5683, 0.0959, 0.5683, 0.0959, 0.8281, 0.8281],\n",
       "       [0.4027, 0.2017, 0.4027, 0.2017, 0.9019, 0.9019]])"
      ]
     },
     "execution_count": 9,
     "metadata": {},
     "output_type": "execute_result"
    }
   ],
   "source": [
    "input = maxp.forward(np_input)\n",
    "\n",
    "m5 = Flatten()\n",
    "output = m5.forward(input)\n",
    "output"
   ]
  },
  {
   "cell_type": "code",
   "execution_count": 10,
   "metadata": {},
   "outputs": [
    {
     "data": {
      "text/plain": [
       "tensor([[0.5443, 0.5443, 0.2968, 0.2968, 0.7809, 0.8742],\n",
       "        [0.8415, 0.8415, 0.8318, 0.8318, 0.8318, 0.5978],\n",
       "        [0.8281, 0.8281, 0.8281, 0.7972, 0.9269, 0.9269],\n",
       "        [0.9019, 0.9019, 0.9019, 0.3093, 0.3115, 0.5141]])"
      ]
     },
     "execution_count": 10,
     "metadata": {},
     "output_type": "execute_result"
    }
   ],
   "source": [
    "input = maxp_(th_input)\n",
    "\n",
    "m6 = nn.Flatten()\n",
    "output = m6(input)\n",
    "output"
   ]
  },
  {
   "cell_type": "code",
   "execution_count": 11,
   "metadata": {},
   "outputs": [
    {
     "name": "stdout",
     "output_type": "stream",
     "text": [
      "[[[1. 1.]\n",
      "  [1. 1.]\n",
      "  [1. 1.]]\n",
      "\n",
      " [[1. 1.]\n",
      "  [1. 1.]\n",
      "  [1. 1.]]\n",
      "\n",
      " [[1. 1.]\n",
      "  [1. 1.]\n",
      "  [1. 1.]]\n",
      "\n",
      " [[1. 1.]\n",
      "  [1. 1.]\n",
      "  [1. 1.]]]\n",
      "[[[0. 0.]\n",
      "  [1. 1.]\n",
      "  [1. 1.]\n",
      "  [1. 1.]]\n",
      "\n",
      " [[0. 0.]\n",
      "  [1. 1.]\n",
      "  [1. 1.]\n",
      "  [1. 1.]]\n",
      "\n",
      " [[0. 0.]\n",
      "  [1. 1.]\n",
      "  [1. 1.]\n",
      "  [1. 1.]]\n",
      "\n",
      " [[0. 0.]\n",
      "  [1. 1.]\n",
      "  [1. 1.]\n",
      "  [1. 1.]]]\n",
      "(4, 4, 2)\n",
      "(4, 8, 2)\n"
     ]
    }
   ],
   "source": [
    "a = np.ones((4, 3, 2))\n",
    "print(a)\n",
    "a = np.insert(a,[0],0 ,axis= 1)\n",
    "\n",
    "print(a)\n",
    "print(a.shape)\n",
    "\n",
    "for i in range(0, 8):\n",
    "    if i%2 != 0 :   \n",
    "        a = np.insert(a,i,0 ,axis= 1)\n",
    "print(a.shape)        \n"
   ]
  },
  {
   "cell_type": "code",
   "execution_count": 12,
   "metadata": {},
   "outputs": [
    {
     "data": {
      "text/plain": [
       "array([0, 1, 2, 3, 4, 5, 6, 7, 8, 9])"
      ]
     },
     "execution_count": 12,
     "metadata": {},
     "output_type": "execute_result"
    }
   ],
   "source": [
    "a = np.arange(10)\n",
    "\n",
    "a[:]"
   ]
  },
  {
   "cell_type": "code",
   "execution_count": 13,
   "metadata": {},
   "outputs": [
    {
     "name": "stdout",
     "output_type": "stream",
     "text": [
      "3\n",
      "0\n",
      "0 3\n",
      "[[[[0.1517]]\n",
      "\n",
      "  [[0.5443]]\n",
      "\n",
      "  [[0.1664]]]\n",
      "\n",
      "\n",
      " [[[0.6482]]\n",
      "\n",
      "  [[0.8415]]\n",
      "\n",
      "  [[0.3437]]]\n",
      "\n",
      "\n",
      " [[[0.0959]]\n",
      "\n",
      "  [[0.5683]]\n",
      "\n",
      "  [[0.8281]]]\n",
      "\n",
      "\n",
      " [[[0.2017]]\n",
      "\n",
      "  [[0.4027]]\n",
      "\n",
      "  [[0.9019]]]]\n",
      "1\n",
      "2 5\n",
      "[[[[0.1664]]\n",
      "\n",
      "  [[0.2968]]\n",
      "\n",
      "  [[0.1047]]]\n",
      "\n",
      "\n",
      " [[[0.3437]]\n",
      "\n",
      "  [[0.5621]]\n",
      "\n",
      "  [[0.8318]]]\n",
      "\n",
      "\n",
      " [[[0.8281]]\n",
      "\n",
      "  [[0.222 ]]\n",
      "\n",
      "  [[0.7972]]]\n",
      "\n",
      "\n",
      " [[[0.9019]]\n",
      "\n",
      "  [[0.3093]]\n",
      "\n",
      "  [[0.2855]]]]\n",
      "2\n",
      "4 7\n",
      "[[[[0.1047]]\n",
      "\n",
      "  [[0.2303]]\n",
      "\n",
      "  [[0.7809]]]\n",
      "\n",
      "\n",
      " [[[0.8318]]\n",
      "\n",
      "  [[0.5978]]\n",
      "\n",
      "  [[0.2179]]]\n",
      "\n",
      "\n",
      " [[[0.7972]]\n",
      "\n",
      "  [[0.3602]]\n",
      "\n",
      "  [[0.9269]]]\n",
      "\n",
      "\n",
      " [[[0.2855]]\n",
      "\n",
      "  [[0.0226]]\n",
      "\n",
      "  [[0.3115]]]]\n"
     ]
    }
   ],
   "source": [
    "#update gradient conv\n",
    "stride = 2\n",
    "m1 = Conv1D(k_size, chan_in, chan_out, stride=stride)\n",
    "delta = m1.forward(np_input)\n",
    "\n",
    "d_out = (length - k_size) // stride + 1\n",
    "print(d_out)\n",
    "res = np.zeros((k_size, chan_in, chan_out))\n",
    "\n",
    "for k in range(k_size):\n",
    "    print(k)\n",
    "    t1, t2 = k * stride, d_out + k * stride \n",
    "    print(t1, t2)\n",
    "    print(np_input[:, t1:t2, :, np.newaxis])\n",
    "    res[k,: , :] = np.sum(\n",
    "            np_input[:, t1:t2, :, np.newaxis]\n",
    "            * delta[:, :,np.newaxis ,:],\n",
    "            axis=(0,1),\n",
    "        )\n"
   ]
  },
  {
   "cell_type": "code",
   "execution_count": 14,
   "metadata": {},
   "outputs": [
    {
     "name": "stdout",
     "output_type": "stream",
     "text": [
      "(4, 3, 2)\n"
     ]
    },
    {
     "ename": "AttributeError",
     "evalue": "'Conv1D' object has no attribute 'sizeOut'",
     "output_type": "error",
     "traceback": [
      "\u001b[1;31m---------------------------------------------------------------------------\u001b[0m",
      "\u001b[1;31mAttributeError\u001b[0m                            Traceback (most recent call last)",
      "\u001b[1;32mc:\\Users\\Jules Dubreuil\\Documents\\universite\\machine-learning\\pylamp\\tests\\test.ipynb Cell 16'\u001b[0m in \u001b[0;36m<cell line: 10>\u001b[1;34m()\u001b[0m\n\u001b[0;32m      <a href='vscode-notebook-cell:/c%3A/Users/Jules%20Dubreuil/Documents/universite/machine-learning/pylamp/tests/test.ipynb#ch0000014?line=7'>8</a>\u001b[0m res \u001b[39m=\u001b[39m np\u001b[39m.\u001b[39mzeros((batch, length, chan_in))\n\u001b[0;32m     <a href='vscode-notebook-cell:/c%3A/Users/Jules%20Dubreuil/Documents/universite/machine-learning/pylamp/tests/test.ipynb#ch0000014?line=9'>10</a>\u001b[0m \u001b[39mif\u001b[39;00m stride \u001b[39m>\u001b[39m \u001b[39m1\u001b[39m:\n\u001b[1;32m---> <a href='vscode-notebook-cell:/c%3A/Users/Jules%20Dubreuil/Documents/universite/machine-learning/pylamp/tests/test.ipynb#ch0000014?line=10'>11</a>\u001b[0m     \u001b[39mfor\u001b[39;00m i \u001b[39min\u001b[39;00m \u001b[39mrange\u001b[39m(\u001b[39m0\u001b[39m, m1\u001b[39m.\u001b[39;49msizeOut \u001b[39m+\u001b[39m \u001b[39m1\u001b[39m):\n\u001b[0;32m     <a href='vscode-notebook-cell:/c%3A/Users/Jules%20Dubreuil/Documents/universite/machine-learning/pylamp/tests/test.ipynb#ch0000014?line=11'>12</a>\u001b[0m         \u001b[39mif\u001b[39;00m i \u001b[39m%\u001b[39m stride \u001b[39m==\u001b[39m \u001b[39m1\u001b[39m:\n\u001b[0;32m     <a href='vscode-notebook-cell:/c%3A/Users/Jules%20Dubreuil/Documents/universite/machine-learning/pylamp/tests/test.ipynb#ch0000014?line=12'>13</a>\u001b[0m             \u001b[39mcontinue\u001b[39;00m\n",
      "\u001b[1;31mAttributeError\u001b[0m: 'Conv1D' object has no attribute 'sizeOut'"
     ]
    }
   ],
   "source": [
    "stride = 2\n",
    "m1 = Conv1D(k_size, chan_in, chan_out, stride=stride)\n",
    "delta = m1.forward(np_input)\n",
    "\n",
    "print(delta.shape)\n",
    "d_out = length\n",
    "\n",
    "res = np.zeros((batch, length, chan_in))\n",
    "\n",
    "if stride > 1:\n",
    "    for i in range(0, m1.sizeOut + 1):\n",
    "        if i % stride == 1:\n",
    "            continue\n",
    "        delta = np.insert(delta, i, 0, axis=1)\n",
    "\n",
    "print(delta.shape)\n",
    "for kd, kr in enumerate(list(range(0, d_out, stride))):\n",
    "    print(\"kd\", kd, \" kr\", kr)\n",
    "    t1, t2 = 0, k_size\n",
    "    d1 = -kd - 2 + k_size\n",
    "    d2 = -kd - 2\n",
    "\n",
    "    if kd == 0:\n",
    "        t1, t2 = 0, kd + 1\n",
    "        d1, d2 = None, -1\n",
    "\n",
    "    elif kd < k_size - 1:\n",
    "        print(\"1\")\n",
    "        t1, t2 = 0, kd + 1\n",
    "        d1, d2 = -1, -kd - 2\n",
    "\n",
    "    elif kd > d_out - (k_size + 1):\n",
    "        print(\"2\")\n",
    "        t1, t2 = k_size - d_out + kd, k_size\n",
    "        d1, d2 = -kd + 2, 0\n",
    "\n",
    "    print(d1, d2, kr, kd)\n",
    "    print(np.flip(params, axis=1)[np.newaxis, t1:t2, :, :])\n",
    "    print(delta[:, d2:d1, np.newaxis, :])\n",
    "\n",
    "    res[:, kr, :] = np.sum(\n",
    "        np.flip(params, axis=1)[np.newaxis, t1:t2, :, :]\n",
    "        * delta[:, d2:d1, np.newaxis, :],\n",
    "        axis=(1, 3),\n",
    "    )\n",
    "\n",
    "res.shape, np_input.shape\n"
   ]
  },
  {
   "cell_type": "code",
   "execution_count": null,
   "metadata": {},
   "outputs": [
    {
     "name": "stdout",
     "output_type": "stream",
     "text": [
      "[[[  0   1   2   3   4]\n",
      "  [ 10  11  12  13  14]\n",
      "  [ 20  21  22  23  24]\n",
      "  [ 30  31  32  33  34]]\n",
      "\n",
      " [[100 101 102 103 104]\n",
      "  [110 111 112 113 114]\n",
      "  [120 121 122 123 124]\n",
      "  [130 131 132 133 134]]]\n"
     ]
    },
    {
     "data": {
      "text/plain": [
       "array([[  0,  21,  34,  12],\n",
       "       [100, 121, 134, 112]])"
      ]
     },
     "execution_count": 15,
     "metadata": {},
     "output_type": "execute_result"
    }
   ],
   "source": [
    "\n",
    "\n",
    "\n",
    "\n",
    "x, y, z = np.ogrid[:2,:4,:5]\n",
    "M = 100*x + 10*y + z\n",
    "M.shape\n",
    "(2, 4, 5)\n",
    "print(M)\n",
    "inds = [(0, 0), (2, 1), (3, 4), (1, 2)]\n",
    "inds_array = np.moveaxis(np.array(inds), -1, 0); inds_array\n",
    "\n",
    "M[np.index_exp[:] + tuple([1])]  # same as M[:, [0, 2, 3, 1], [0, 1, 4, 2]]\n",
    "\n",
    "M[:, [0, 2, 3, 1], [0, 1, 4, 2]]\n"
   ]
  },
  {
   "cell_type": "code",
   "execution_count": null,
   "metadata": {},
   "outputs": [
    {
     "data": {
      "text/plain": [
       "[0, 0, 0, 0, 1]"
      ]
     },
     "execution_count": 16,
     "metadata": {},
     "output_type": "execute_result"
    }
   ],
   "source": [
    "p = [1,0,2,5]\n",
    "\n",
    "p += [2]\n",
    "\n",
    "\n",
    "\n",
    "t = [0 ]* 4 + [1]\n",
    "t"
   ]
  }
 ],
 "metadata": {
  "interpreter": {
   "hash": "5a75615412e03e428e9a4c18cf4b9987160155d6a7443ebff4cfd9f3aaed23f2"
  },
  "kernelspec": {
   "display_name": "Python 3.9.9 64-bit",
   "language": "python",
   "name": "python3"
  },
  "language_info": {
   "codemirror_mode": {
    "name": "ipython",
    "version": 3
   },
   "file_extension": ".py",
   "mimetype": "text/x-python",
   "name": "python",
   "nbconvert_exporter": "python",
   "pygments_lexer": "ipython3",
   "version": "3.9.9"
  },
  "orig_nbformat": 4
 },
 "nbformat": 4,
 "nbformat_minor": 2
}
