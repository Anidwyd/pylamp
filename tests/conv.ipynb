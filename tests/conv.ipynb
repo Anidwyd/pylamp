{
 "cells": [
  {
   "cell_type": "code",
   "execution_count": 1,
   "metadata": {},
   "outputs": [],
   "source": [
    "from lamp import *\n",
    "from lamp.utils import *\n",
    "from lamp.models import *"
   ]
  },
  {
   "cell_type": "code",
   "execution_count": 2,
   "metadata": {},
   "outputs": [
    {
     "data": {
      "text/plain": [
       "(7291, 256, 1)"
      ]
     },
     "execution_count": 2,
     "metadata": {},
     "output_type": "execute_result"
    }
   ],
   "source": [
    "train_X, train_y = load_usps(\"../data/USPS_train.txt\")\n",
    "test_X, test_y = load_usps(\"../data/USPS_test.txt\")\n",
    "\n",
    "(train_batch, length), test_batch = train_X.shape, test_X.shape[0]\n",
    "train_X = train_X.reshape(train_batch, length, 1)\n",
    "test_X = test_X.reshape(test_batch, length, 1)\n",
    "\n",
    "onehot = to_onehot(train_y)\n",
    "train_X.shape"
   ]
  },
  {
   "cell_type": "code",
   "execution_count": 3,
   "metadata": {},
   "outputs": [],
   "source": [
    "conv = Convolutional()\n",
    "conv.fit(train_X, onehot, gradient_step=1e-4, nb_iter=10, batch_size=730)"
   ]
  },
  {
   "cell_type": "code",
   "execution_count": 4,
   "metadata": {},
   "outputs": [
    {
     "data": {
      "text/plain": [
       "0.401096163428002"
      ]
     },
     "execution_count": 4,
     "metadata": {},
     "output_type": "execute_result"
    }
   ],
   "source": [
    "score = conv.score(test_X, test_y)\n",
    "score"
   ]
  },
  {
   "cell_type": "code",
   "execution_count": 5,
   "metadata": {},
   "outputs": [
    {
     "data": {
      "image/png": "[encoded data removed]",
      "text/plain": [
       "<Figure size 432x288 with 1 Axes>"
      ]
     },
     "metadata": {
      "needs_background": "light"
     },
     "output_type": "display_data"
    }
   ],
   "source": [
    "timesteps = np.arange(len(conv.train_losses))\n",
    "plt.plot(timesteps, conv.train_losses)\n",
    "plt.show()\n"
   ]
  }
 ],
 "metadata": {
  "interpreter": {
   "hash": "5a75615412e03e428e9a4c18cf4b9987160155d6a7443ebff4cfd9f3aaed23f2"
  },
  "kernelspec": {
   "display_name": "Python 3.9.9 64-bit",
   "language": "python",
   "name": "python3"
  },
  "language_info": {
   "codemirror_mode": {
    "name": "ipython",
    "version": 3
   },
   "file_extension": ".py",
   "mimetype": "text/x-python",
   "name": "python",
   "nbconvert_exporter": "python",
   "pygments_lexer": "ipython3",
   "version": "3.9.9"
  },
  "orig_nbformat": 4
 },
 "nbformat": 4,
 "nbformat_minor": 2
}
